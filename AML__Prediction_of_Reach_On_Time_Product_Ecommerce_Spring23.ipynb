{
  "cells": [
    {
      "cell_type": "markdown",
      "metadata": {
        "id": "PGK51ENiWK8u"
      },
      "source": [
        "# Homework 2: Trees and Calibration\n",
        "\n",
        "\n",
        "## Instructions\n",
        "\n",
        "Please push the .ipynb, .py, and .pdf to Github Classroom prior to the deadline. Please include your UNI as well.\n",
        "\n",
        "**Make sure to use the dataset that we provide in CourseWorks/Classroom.**\n",
        "\n",
        "**There are a lot of applied questions based on the code results. Please make sure to answer them all. These are primarily to test your understanding of the results your code generate (similar to any Data Science/ML case study interviews).**\n"
      ]
    },
    {
      "attachments": {},
      "cell_type": "markdown",
      "metadata": {
        "id": "IMh1gfa1WQ-s"
      },
      "source": [
        "\n",
        "```\n",
        "# This is formatted as code\n",
        "```\n",
        "Spring 2023 4995\n",
        "## Name: Liang Zhao\n",
        "\n",
        "## UNI: lz2871"
      ]
    },
    {
      "cell_type": "markdown",
      "metadata": {
        "id": "h-WA9tIaWVo2"
      },
      "source": [
        "## The Dataset\n",
        "\n",
        "\n",
        "### Description\n",
        "\n",
        "This data set contains details of ecommerce product shipment tracking and the target variable is a binary variable reflecting the fact whether the product reached on time or not."
      ]
    },
    {
      "cell_type": "code",
      "execution_count": 448,
      "metadata": {
        "id": "ohzV1r4eWW7Y"
      },
      "outputs": [],
      "source": [
        "import numpy as np\n",
        "import pandas as pd\n",
        "import matplotlib.pyplot as plt\n",
        "import seaborn as sns\n",
        "import time"
      ]
    },
    {
      "cell_type": "markdown",
      "metadata": {
        "id": "x9xC14h3WcKC"
      },
      "source": [
        "## Question 1: Decision Trees"
      ]
    },
    {
      "cell_type": "markdown",
      "metadata": {
        "id": "3tGQU8PdWgIe"
      },
      "source": [
        "**1.1: Load the provided dataset**"
      ]
    },
    {
      "cell_type": "code",
      "execution_count": 711,
      "metadata": {
        "id": "KUpVHIJVZ93o"
      },
      "outputs": [
        {
          "data": {
            "text/plain": [
              "1    6563\n",
              "0    4436\n",
              "Name: Reached_On_Time, dtype: int64"
            ]
          },
          "execution_count": 711,
          "metadata": {},
          "output_type": "execute_result"
        }
      ],
      "source": [
        "## YOUR CODE HERE\n",
        "df  = pd.read_csv(\"/Users/liangzhao/Desktop/W4995/hmwk2_4995_2022/aml-spring2023-assignment2-liang0711/data.csv\")\n",
        "\n",
        "df.head(10)\n",
        "df.Reached_On_Time.value_counts()"
      ]
    },
    {
      "cell_type": "code",
      "execution_count": 450,
      "metadata": {},
      "outputs": [
        {
          "data": {
            "text/plain": [
              "(10999, 12)"
            ]
          },
          "execution_count": 450,
          "metadata": {},
          "output_type": "execute_result"
        }
      ],
      "source": [
        "df.shape\n"
      ]
    },
    {
      "attachments": {},
      "cell_type": "markdown",
      "metadata": {
        "id": "7b1FzZArWqp5"
      },
      "source": [
        "**1.2: Are there any missing values in the dataset?**\n",
        "\n",
        "- there are no missing value \n"
      ]
    },
    {
      "cell_type": "code",
      "execution_count": 712,
      "metadata": {
        "id": "aA2iOzZmaKoc"
      },
      "outputs": [
        {
          "name": "stdout",
          "output_type": "stream",
          "text": [
            "ID                     0\n",
            "Warehouse_block        0\n",
            "Mode_of_Shipment       0\n",
            "Customer_care_calls    0\n",
            "Customer_rating        0\n",
            "Cost_of_the_Product    0\n",
            "Prior_purchases        0\n",
            "Product_importance     0\n",
            "Gender                 0\n",
            "Discount_offered       0\n",
            "Weight_in_gms          0\n",
            "Reached_On_Time        0\n",
            "dtype: int64\n",
            "``2```\n",
            "0        0\n",
            "1        0\n",
            "2        0\n",
            "3        0\n",
            "4        0\n",
            "        ..\n",
            "10994    0\n",
            "10995    0\n",
            "10996    0\n",
            "10997    0\n",
            "10998    0\n",
            "Length: 10999, dtype: int64\n"
          ]
        }
      ],
      "source": [
        "## YOUR CODE HERE\n",
        "\n",
        "missing_values = df.isnull()\n",
        "\n",
        "missing_values.sum()\n",
        "\n",
        "# Check which values are missing\n",
        "missing_values = df.isna()\n",
        "missing_values\n",
        "\n",
        "print(missing_values.sum(axis=0))\n",
        "print(\"``2```\")\n",
        "# Count the number of missing values in each row\n",
        "print(missing_values.sum(axis=1))"
      ]
    },
    {
      "cell_type": "markdown",
      "metadata": {
        "id": "YTiDRE_QWwrZ"
      },
      "source": [
        "**1.3: Plot side-by-side bars of class distribtuion for each category for the categorical feature and the target categories.**\n"
      ]
    },
    {
      "cell_type": "code",
      "execution_count": 481,
      "metadata": {
        "id": "lVQAdWahaNBT"
      },
      "outputs": [
        {
          "name": "stderr",
          "output_type": "stream",
          "text": [
            "/var/folders/9k/znvz547n28q5p5rm8qtkt5w80000gn/T/ipykernel_37070/3865758254.py:4: SettingWithCopyWarning: \n",
            "A value is trying to be set on a copy of a slice from a DataFrame.\n",
            "Try using .loc[row_indexer,col_indexer] = value instead\n",
            "\n",
            "See the caveats in the documentation: https://pandas.pydata.org/pandas-docs/stable/user_guide/indexing.html#returning-a-view-versus-a-copy\n",
            "  df_1['Reached_On_Time'] = df_1['Reached_On_Time'].astype(str)\n"
          ]
        },
        {
          "data": {
            "image/png": "[encoded data removed]",
            "text/plain": [
              "<Figure size 432x288 with 1 Axes>"
            ]
          },
          "metadata": {
            "needs_background": "light"
          },
          "output_type": "display_data"
        },
        {
          "name": "stdout",
          "output_type": "stream",
          "text": [
            "\n"
          ]
        },
        {
          "data": {
            "image/png": "[encoded data removed]",
            "text/plain": [
              "<Figure size 432x288 with 1 Axes>"
            ]
          },
          "metadata": {
            "needs_background": "light"
          },
          "output_type": "display_data"
        },
        {
          "name": "stdout",
          "output_type": "stream",
          "text": [
            "\n"
          ]
        },
        {
          "data": {
            "image/png": "[encoded data removed]",
            "text/plain": [
              "<Figure size 432x288 with 1 Axes>"
            ]
          },
          "metadata": {
            "needs_background": "light"
          },
          "output_type": "display_data"
        },
        {
          "name": "stdout",
          "output_type": "stream",
          "text": [
            "\n"
          ]
        },
        {
          "data": {
            "image/png": "[encoded data removed]",
            "text/plain": [
              "<Figure size 432x288 with 1 Axes>"
            ]
          },
          "metadata": {
            "needs_background": "light"
          },
          "output_type": "display_data"
        },
        {
          "name": "stdout",
          "output_type": "stream",
          "text": [
            "\n"
          ]
        },
        {
          "data": {
            "image/png": "[encoded data removed]",
            "text/plain": [
              "<Figure size 432x288 with 1 Axes>"
            ]
          },
          "metadata": {
            "needs_background": "light"
          },
          "output_type": "display_data"
        },
        {
          "name": "stdout",
          "output_type": "stream",
          "text": [
            "\n"
          ]
        }
      ],
      "source": [
        "## YOUR CODE HERE\n",
        "df_1=df[['Warehouse_block','Mode_of_Shipment','Product_importance','Gender','Reached_On_Time']]\n",
        "df_1.head(10)\n",
        "df_1['Reached_On_Time'] = df_1['Reached_On_Time'].astype(str)\n",
        "df_1['Reached_On_Time']\n",
        "col_names=df_1.columns.tolist()\n",
        "col_names\n",
        "\n",
        "# Loop over the variables and the Axes objects\n",
        "for col in col_names:\n",
        "    sns.countplot(x=col, data=df_1,hue=df_1.Reached_On_Time)\n",
        "    plt.title(col)\n",
        "    plt.show()\n",
        "    print()\n"
      ]
    },
    {
      "attachments": {},
      "cell_type": "markdown",
      "metadata": {
        "id": "6noNR9-bONiH"
      },
      "source": [
        "**1.4: Explain the distribution of the target variable and the dataset.**\n",
        "\n",
        "- **we obseve that the data is imbalanced and have 4:6 ratio for class 0 and class1**\n",
        "\n",
        "\n",
        "- for warehouse: F has high frequency of reach_on_time as well as high amount of reach_not_on_time; in average, all locations have high freq reach_on_time than reach_not_on_time. \n",
        "- for mode_shipment: ship has higher number of reach_on_time\n",
        "- for product_importance: low/meidum/high: reach_on_time's freq is higher than not_reach_on_time\n",
        "\n"
      ]
    },
    {
      "cell_type": "code",
      "execution_count": 482,
      "metadata": {},
      "outputs": [
        {
          "data": {
            "text/plain": [
              "Text(0.5, 1.0, 'calss distribution for Reached_On_Tiime')"
            ]
          },
          "execution_count": 482,
          "metadata": {},
          "output_type": "execute_result"
        },
        {
          "data": {
            "image/png": "[encoded data removed]",
            "text/plain": [
              "<Figure size 432x288 with 1 Axes>"
            ]
          },
          "metadata": {},
          "output_type": "display_data"
        }
      ],
      "source": [
        "df['Reached_On_Time'].value_counts().plot(kind=\"pie\")\n",
        "plt.title(\"calss distribution for Reached_On_Tiime\")"
      ]
    },
    {
      "attachments": {},
      "cell_type": "markdown",
      "metadata": {
        "id": "ydfNqM4KW5AP"
      },
      "source": [
        "**1.5: Split the data into development and test datasets. Which splitting methodology did you choose and why?**\n",
        "\n",
        "**Hint: Based on the distribution of the data, try to use the best splitting strategy.**"
      ]
    },
    {
      "cell_type": "code",
      "execution_count": 713,
      "metadata": {},
      "outputs": [],
      "source": [
        "## better solution:\n",
        "X= df.drop(['Reached_On_Time'], axis=1)\n",
        "X.columns\n",
        "y=df['Reached_On_Time']\n",
        "X_train_c,X_test_c,y_train_c,y_test_c = train_test_split(X, y, test_size=0.2,stratify=y, random_state=123)\n",
        "\n",
        "\n",
        "\n",
        "#Sort by index and drop new coloumn created by the preprocessing\n",
        "y_train_c=y_train_c.sort_index(ascending=True)\n",
        "X_train_c=X_train_c.sort_index(ascending=True)\n",
        "X_test_c=X_test_c.sort_index(ascending=True)\n",
        "y_test_c=y_test_c.sort_index(ascending=True)"
      ]
    },
    {
      "cell_type": "code",
      "execution_count": 714,
      "metadata": {},
      "outputs": [
        {
          "data": {
            "text/html": [
              "<div>\n",
              "<style scoped>\n",
              "    .dataframe tbody tr th:only-of-type {\n",
              "        vertical-align: middle;\n",
              "    }\n",
              "\n",
              "    .dataframe tbody tr th {\n",
              "        vertical-align: top;\n",
              "    }\n",
              "\n",
              "    .dataframe thead th {\n",
              "        text-align: right;\n",
              "    }\n",
              "</style>\n",
              "<table border=\"1\" class=\"dataframe\">\n",
              "  <thead>\n",
              "    <tr style=\"text-align: right;\">\n",
              "      <th></th>\n",
              "      <th>ID</th>\n",
              "      <th>Warehouse_block</th>\n",
              "      <th>Mode_of_Shipment</th>\n",
              "      <th>Customer_care_calls</th>\n",
              "      <th>Customer_rating</th>\n",
              "      <th>Cost_of_the_Product</th>\n",
              "      <th>Prior_purchases</th>\n",
              "      <th>Product_importance</th>\n",
              "      <th>Gender</th>\n",
              "      <th>Discount_offered</th>\n",
              "      <th>Weight_in_gms</th>\n",
              "    </tr>\n",
              "  </thead>\n",
              "  <tbody>\n",
              "    <tr>\n",
              "      <th>0</th>\n",
              "      <td>1</td>\n",
              "      <td>D</td>\n",
              "      <td>Flight</td>\n",
              "      <td>4</td>\n",
              "      <td>2</td>\n",
              "      <td>177</td>\n",
              "      <td>3</td>\n",
              "      <td>low</td>\n",
              "      <td>F</td>\n",
              "      <td>44</td>\n",
              "      <td>1233</td>\n",
              "    </tr>\n",
              "    <tr>\n",
              "      <th>2</th>\n",
              "      <td>3</td>\n",
              "      <td>A</td>\n",
              "      <td>Flight</td>\n",
              "      <td>2</td>\n",
              "      <td>2</td>\n",
              "      <td>183</td>\n",
              "      <td>4</td>\n",
              "      <td>low</td>\n",
              "      <td>M</td>\n",
              "      <td>48</td>\n",
              "      <td>3374</td>\n",
              "    </tr>\n",
              "    <tr>\n",
              "      <th>3</th>\n",
              "      <td>4</td>\n",
              "      <td>B</td>\n",
              "      <td>Flight</td>\n",
              "      <td>3</td>\n",
              "      <td>3</td>\n",
              "      <td>176</td>\n",
              "      <td>4</td>\n",
              "      <td>medium</td>\n",
              "      <td>M</td>\n",
              "      <td>10</td>\n",
              "      <td>1177</td>\n",
              "    </tr>\n",
              "    <tr>\n",
              "      <th>4</th>\n",
              "      <td>5</td>\n",
              "      <td>C</td>\n",
              "      <td>Flight</td>\n",
              "      <td>2</td>\n",
              "      <td>2</td>\n",
              "      <td>184</td>\n",
              "      <td>3</td>\n",
              "      <td>medium</td>\n",
              "      <td>F</td>\n",
              "      <td>46</td>\n",
              "      <td>2484</td>\n",
              "    </tr>\n",
              "    <tr>\n",
              "      <th>5</th>\n",
              "      <td>6</td>\n",
              "      <td>F</td>\n",
              "      <td>Flight</td>\n",
              "      <td>3</td>\n",
              "      <td>1</td>\n",
              "      <td>162</td>\n",
              "      <td>3</td>\n",
              "      <td>medium</td>\n",
              "      <td>F</td>\n",
              "      <td>12</td>\n",
              "      <td>1417</td>\n",
              "    </tr>\n",
              "    <tr>\n",
              "      <th>...</th>\n",
              "      <td>...</td>\n",
              "      <td>...</td>\n",
              "      <td>...</td>\n",
              "      <td>...</td>\n",
              "      <td>...</td>\n",
              "      <td>...</td>\n",
              "      <td>...</td>\n",
              "      <td>...</td>\n",
              "      <td>...</td>\n",
              "      <td>...</td>\n",
              "      <td>...</td>\n",
              "    </tr>\n",
              "    <tr>\n",
              "      <th>10993</th>\n",
              "      <td>10994</td>\n",
              "      <td>F</td>\n",
              "      <td>Ship</td>\n",
              "      <td>5</td>\n",
              "      <td>1</td>\n",
              "      <td>257</td>\n",
              "      <td>6</td>\n",
              "      <td>low</td>\n",
              "      <td>F</td>\n",
              "      <td>1</td>\n",
              "      <td>1150</td>\n",
              "    </tr>\n",
              "    <tr>\n",
              "      <th>10994</th>\n",
              "      <td>10995</td>\n",
              "      <td>A</td>\n",
              "      <td>Ship</td>\n",
              "      <td>4</td>\n",
              "      <td>1</td>\n",
              "      <td>252</td>\n",
              "      <td>5</td>\n",
              "      <td>medium</td>\n",
              "      <td>F</td>\n",
              "      <td>1</td>\n",
              "      <td>1538</td>\n",
              "    </tr>\n",
              "    <tr>\n",
              "      <th>10995</th>\n",
              "      <td>10996</td>\n",
              "      <td>B</td>\n",
              "      <td>Ship</td>\n",
              "      <td>4</td>\n",
              "      <td>1</td>\n",
              "      <td>232</td>\n",
              "      <td>5</td>\n",
              "      <td>medium</td>\n",
              "      <td>F</td>\n",
              "      <td>6</td>\n",
              "      <td>1247</td>\n",
              "    </tr>\n",
              "    <tr>\n",
              "      <th>10997</th>\n",
              "      <td>10998</td>\n",
              "      <td>F</td>\n",
              "      <td>Ship</td>\n",
              "      <td>5</td>\n",
              "      <td>2</td>\n",
              "      <td>223</td>\n",
              "      <td>6</td>\n",
              "      <td>medium</td>\n",
              "      <td>M</td>\n",
              "      <td>2</td>\n",
              "      <td>1210</td>\n",
              "    </tr>\n",
              "    <tr>\n",
              "      <th>10998</th>\n",
              "      <td>10999</td>\n",
              "      <td>D</td>\n",
              "      <td>Ship</td>\n",
              "      <td>2</td>\n",
              "      <td>5</td>\n",
              "      <td>155</td>\n",
              "      <td>5</td>\n",
              "      <td>low</td>\n",
              "      <td>F</td>\n",
              "      <td>6</td>\n",
              "      <td>1639</td>\n",
              "    </tr>\n",
              "  </tbody>\n",
              "</table>\n",
              "<p>8799 rows × 11 columns</p>\n",
              "</div>"
            ],
            "text/plain": [
              "          ID Warehouse_block Mode_of_Shipment  Customer_care_calls  \\\n",
              "0          1               D           Flight                    4   \n",
              "2          3               A           Flight                    2   \n",
              "3          4               B           Flight                    3   \n",
              "4          5               C           Flight                    2   \n",
              "5          6               F           Flight                    3   \n",
              "...      ...             ...              ...                  ...   \n",
              "10993  10994               F             Ship                    5   \n",
              "10994  10995               A             Ship                    4   \n",
              "10995  10996               B             Ship                    4   \n",
              "10997  10998               F             Ship                    5   \n",
              "10998  10999               D             Ship                    2   \n",
              "\n",
              "       Customer_rating  Cost_of_the_Product  Prior_purchases  \\\n",
              "0                    2                  177                3   \n",
              "2                    2                  183                4   \n",
              "3                    3                  176                4   \n",
              "4                    2                  184                3   \n",
              "5                    1                  162                3   \n",
              "...                ...                  ...              ...   \n",
              "10993                1                  257                6   \n",
              "10994                1                  252                5   \n",
              "10995                1                  232                5   \n",
              "10997                2                  223                6   \n",
              "10998                5                  155                5   \n",
              "\n",
              "      Product_importance Gender  Discount_offered  Weight_in_gms  \n",
              "0                    low      F                44           1233  \n",
              "2                    low      M                48           3374  \n",
              "3                 medium      M                10           1177  \n",
              "4                 medium      F                46           2484  \n",
              "5                 medium      F                12           1417  \n",
              "...                  ...    ...               ...            ...  \n",
              "10993                low      F                 1           1150  \n",
              "10994             medium      F                 1           1538  \n",
              "10995             medium      F                 6           1247  \n",
              "10997             medium      M                 2           1210  \n",
              "10998                low      F                 6           1639  \n",
              "\n",
              "[8799 rows x 11 columns]"
            ]
          },
          "execution_count": 714,
          "metadata": {},
          "output_type": "execute_result"
        }
      ],
      "source": [
        "X_train_c"
      ]
    },
    {
      "cell_type": "markdown",
      "metadata": {
        "id": "8TFVV3E3aTJr"
      },
      "source": [
        "## YOUR CODE HERE\n",
        "from sklearn.model_selection import train_test_split\n",
        "df.Reached_On_Time.value_counts()\n",
        "# since the data for yes/no is imbalanced data, so we need to do some sampling \n",
        "X=df.drop(['Reached_On_Time'],axis=1)\n",
        "y_c=df[['Reached_On_Time']]\n",
        "X_train_c,X_test_c,y_train_c,y_test_c = train_test_split(X, y_c, test_size=0.2,stratify=y_c, random_state=123)\n",
        "X_train_c\n",
        "X_test_c.shape"
      ]
    },
    {
      "cell_type": "code",
      "execution_count": 715,
      "metadata": {},
      "outputs": [
        {
          "name": "stdout",
          "output_type": "stream",
          "text": [
            "proportion of low values y_test_c : 0.40\n",
            "proportion of low values y_train_c: 0.40\n"
          ]
        }
      ],
      "source": [
        "num_low_y_test_c = np.sum(y_test_c == 0)\n",
        "prop_low_test = num_low_y_test_c / len(y_test_c)\n",
        "prop_low_test\n",
        "print(f'proportion of low values y_test_c : {float(prop_low_test):0.2f}')\n",
        "\n",
        "num_low_y_train_c = np.sum(y_train_c == 0)\n",
        "prop_low_train = num_low_y_train_c / len(y_train_c)\n",
        "prop_low_train\n",
        "print(f'proportion of low values y_train_c: {float(prop_low_train):0.2f}')"
      ]
    },
    {
      "cell_type": "code",
      "execution_count": 457,
      "metadata": {},
      "outputs": [
        {
          "data": {
            "text/html": [
              "<div>\n",
              "<style scoped>\n",
              "    .dataframe tbody tr th:only-of-type {\n",
              "        vertical-align: middle;\n",
              "    }\n",
              "\n",
              "    .dataframe tbody tr th {\n",
              "        vertical-align: top;\n",
              "    }\n",
              "\n",
              "    .dataframe thead th {\n",
              "        text-align: right;\n",
              "    }\n",
              "</style>\n",
              "<table border=\"1\" class=\"dataframe\">\n",
              "  <thead>\n",
              "    <tr style=\"text-align: right;\">\n",
              "      <th></th>\n",
              "      <th>ID</th>\n",
              "      <th>Warehouse_block</th>\n",
              "      <th>Mode_of_Shipment</th>\n",
              "      <th>Customer_care_calls</th>\n",
              "      <th>Customer_rating</th>\n",
              "      <th>Cost_of_the_Product</th>\n",
              "      <th>Prior_purchases</th>\n",
              "      <th>Product_importance</th>\n",
              "      <th>Gender</th>\n",
              "      <th>Discount_offered</th>\n",
              "      <th>Weight_in_gms</th>\n",
              "    </tr>\n",
              "  </thead>\n",
              "  <tbody>\n",
              "    <tr>\n",
              "      <th>0</th>\n",
              "      <td>1</td>\n",
              "      <td>D</td>\n",
              "      <td>Flight</td>\n",
              "      <td>4</td>\n",
              "      <td>2</td>\n",
              "      <td>177</td>\n",
              "      <td>3</td>\n",
              "      <td>low</td>\n",
              "      <td>F</td>\n",
              "      <td>44</td>\n",
              "      <td>1233</td>\n",
              "    </tr>\n",
              "    <tr>\n",
              "      <th>2</th>\n",
              "      <td>3</td>\n",
              "      <td>A</td>\n",
              "      <td>Flight</td>\n",
              "      <td>2</td>\n",
              "      <td>2</td>\n",
              "      <td>183</td>\n",
              "      <td>4</td>\n",
              "      <td>low</td>\n",
              "      <td>M</td>\n",
              "      <td>48</td>\n",
              "      <td>3374</td>\n",
              "    </tr>\n",
              "    <tr>\n",
              "      <th>3</th>\n",
              "      <td>4</td>\n",
              "      <td>B</td>\n",
              "      <td>Flight</td>\n",
              "      <td>3</td>\n",
              "      <td>3</td>\n",
              "      <td>176</td>\n",
              "      <td>4</td>\n",
              "      <td>medium</td>\n",
              "      <td>M</td>\n",
              "      <td>10</td>\n",
              "      <td>1177</td>\n",
              "    </tr>\n",
              "    <tr>\n",
              "      <th>4</th>\n",
              "      <td>5</td>\n",
              "      <td>C</td>\n",
              "      <td>Flight</td>\n",
              "      <td>2</td>\n",
              "      <td>2</td>\n",
              "      <td>184</td>\n",
              "      <td>3</td>\n",
              "      <td>medium</td>\n",
              "      <td>F</td>\n",
              "      <td>46</td>\n",
              "      <td>2484</td>\n",
              "    </tr>\n",
              "    <tr>\n",
              "      <th>5</th>\n",
              "      <td>6</td>\n",
              "      <td>F</td>\n",
              "      <td>Flight</td>\n",
              "      <td>3</td>\n",
              "      <td>1</td>\n",
              "      <td>162</td>\n",
              "      <td>3</td>\n",
              "      <td>medium</td>\n",
              "      <td>F</td>\n",
              "      <td>12</td>\n",
              "      <td>1417</td>\n",
              "    </tr>\n",
              "    <tr>\n",
              "      <th>...</th>\n",
              "      <td>...</td>\n",
              "      <td>...</td>\n",
              "      <td>...</td>\n",
              "      <td>...</td>\n",
              "      <td>...</td>\n",
              "      <td>...</td>\n",
              "      <td>...</td>\n",
              "      <td>...</td>\n",
              "      <td>...</td>\n",
              "      <td>...</td>\n",
              "      <td>...</td>\n",
              "    </tr>\n",
              "    <tr>\n",
              "      <th>10993</th>\n",
              "      <td>10994</td>\n",
              "      <td>F</td>\n",
              "      <td>Ship</td>\n",
              "      <td>5</td>\n",
              "      <td>1</td>\n",
              "      <td>257</td>\n",
              "      <td>6</td>\n",
              "      <td>low</td>\n",
              "      <td>F</td>\n",
              "      <td>1</td>\n",
              "      <td>1150</td>\n",
              "    </tr>\n",
              "    <tr>\n",
              "      <th>10994</th>\n",
              "      <td>10995</td>\n",
              "      <td>A</td>\n",
              "      <td>Ship</td>\n",
              "      <td>4</td>\n",
              "      <td>1</td>\n",
              "      <td>252</td>\n",
              "      <td>5</td>\n",
              "      <td>medium</td>\n",
              "      <td>F</td>\n",
              "      <td>1</td>\n",
              "      <td>1538</td>\n",
              "    </tr>\n",
              "    <tr>\n",
              "      <th>10995</th>\n",
              "      <td>10996</td>\n",
              "      <td>B</td>\n",
              "      <td>Ship</td>\n",
              "      <td>4</td>\n",
              "      <td>1</td>\n",
              "      <td>232</td>\n",
              "      <td>5</td>\n",
              "      <td>medium</td>\n",
              "      <td>F</td>\n",
              "      <td>6</td>\n",
              "      <td>1247</td>\n",
              "    </tr>\n",
              "    <tr>\n",
              "      <th>10997</th>\n",
              "      <td>10998</td>\n",
              "      <td>F</td>\n",
              "      <td>Ship</td>\n",
              "      <td>5</td>\n",
              "      <td>2</td>\n",
              "      <td>223</td>\n",
              "      <td>6</td>\n",
              "      <td>medium</td>\n",
              "      <td>M</td>\n",
              "      <td>2</td>\n",
              "      <td>1210</td>\n",
              "    </tr>\n",
              "    <tr>\n",
              "      <th>10998</th>\n",
              "      <td>10999</td>\n",
              "      <td>D</td>\n",
              "      <td>Ship</td>\n",
              "      <td>2</td>\n",
              "      <td>5</td>\n",
              "      <td>155</td>\n",
              "      <td>5</td>\n",
              "      <td>low</td>\n",
              "      <td>F</td>\n",
              "      <td>6</td>\n",
              "      <td>1639</td>\n",
              "    </tr>\n",
              "  </tbody>\n",
              "</table>\n",
              "<p>8799 rows × 11 columns</p>\n",
              "</div>"
            ],
            "text/plain": [
              "          ID Warehouse_block Mode_of_Shipment  Customer_care_calls  \\\n",
              "0          1               D           Flight                    4   \n",
              "2          3               A           Flight                    2   \n",
              "3          4               B           Flight                    3   \n",
              "4          5               C           Flight                    2   \n",
              "5          6               F           Flight                    3   \n",
              "...      ...             ...              ...                  ...   \n",
              "10993  10994               F             Ship                    5   \n",
              "10994  10995               A             Ship                    4   \n",
              "10995  10996               B             Ship                    4   \n",
              "10997  10998               F             Ship                    5   \n",
              "10998  10999               D             Ship                    2   \n",
              "\n",
              "       Customer_rating  Cost_of_the_Product  Prior_purchases  \\\n",
              "0                    2                  177                3   \n",
              "2                    2                  183                4   \n",
              "3                    3                  176                4   \n",
              "4                    2                  184                3   \n",
              "5                    1                  162                3   \n",
              "...                ...                  ...              ...   \n",
              "10993                1                  257                6   \n",
              "10994                1                  252                5   \n",
              "10995                1                  232                5   \n",
              "10997                2                  223                6   \n",
              "10998                5                  155                5   \n",
              "\n",
              "      Product_importance Gender  Discount_offered  Weight_in_gms  \n",
              "0                    low      F                44           1233  \n",
              "2                    low      M                48           3374  \n",
              "3                 medium      M                10           1177  \n",
              "4                 medium      F                46           2484  \n",
              "5                 medium      F                12           1417  \n",
              "...                  ...    ...               ...            ...  \n",
              "10993                low      F                 1           1150  \n",
              "10994             medium      F                 1           1538  \n",
              "10995             medium      F                 6           1247  \n",
              "10997             medium      M                 2           1210  \n",
              "10998                low      F                 6           1639  \n",
              "\n",
              "[8799 rows x 11 columns]"
            ]
          },
          "execution_count": 457,
          "metadata": {},
          "output_type": "execute_result"
        }
      ],
      "source": [
        "X_train_c"
      ]
    },
    {
      "attachments": {},
      "cell_type": "markdown",
      "metadata": {
        "id": "rl4Lkx0OXH3R"
      },
      "source": [
        "**1.6: Would you drop any column? Justify your reasoning.** \n",
        "- yes. The id  would be deleted. \n",
        "**Preprocess the data (Handle the Categorical Variable). Do we need to apply scaling? Briefly Justify**\n",
        "\n"
      ]
    },
    {
      "cell_type": "code",
      "execution_count": 716,
      "metadata": {},
      "outputs": [
        {
          "data": {
            "text/html": [
              "<div>\n",
              "<style scoped>\n",
              "    .dataframe tbody tr th:only-of-type {\n",
              "        vertical-align: middle;\n",
              "    }\n",
              "\n",
              "    .dataframe tbody tr th {\n",
              "        vertical-align: top;\n",
              "    }\n",
              "\n",
              "    .dataframe thead th {\n",
              "        text-align: right;\n",
              "    }\n",
              "</style>\n",
              "<table border=\"1\" class=\"dataframe\">\n",
              "  <thead>\n",
              "    <tr style=\"text-align: right;\">\n",
              "      <th></th>\n",
              "      <th>Warehouse_block</th>\n",
              "      <th>Mode_of_Shipment</th>\n",
              "      <th>Customer_care_calls</th>\n",
              "      <th>Customer_rating</th>\n",
              "      <th>Cost_of_the_Product</th>\n",
              "      <th>Prior_purchases</th>\n",
              "      <th>Product_importance</th>\n",
              "      <th>Gender</th>\n",
              "      <th>Discount_offered</th>\n",
              "      <th>Weight_in_gms</th>\n",
              "    </tr>\n",
              "  </thead>\n",
              "  <tbody>\n",
              "    <tr>\n",
              "      <th>1</th>\n",
              "      <td>F</td>\n",
              "      <td>Flight</td>\n",
              "      <td>4</td>\n",
              "      <td>5</td>\n",
              "      <td>216</td>\n",
              "      <td>2</td>\n",
              "      <td>low</td>\n",
              "      <td>M</td>\n",
              "      <td>59</td>\n",
              "      <td>3088</td>\n",
              "    </tr>\n",
              "    <tr>\n",
              "      <th>25</th>\n",
              "      <td>F</td>\n",
              "      <td>Ship</td>\n",
              "      <td>3</td>\n",
              "      <td>1</td>\n",
              "      <td>225</td>\n",
              "      <td>4</td>\n",
              "      <td>low</td>\n",
              "      <td>M</td>\n",
              "      <td>29</td>\n",
              "      <td>3496</td>\n",
              "    </tr>\n",
              "    <tr>\n",
              "      <th>29</th>\n",
              "      <td>F</td>\n",
              "      <td>Ship</td>\n",
              "      <td>5</td>\n",
              "      <td>4</td>\n",
              "      <td>183</td>\n",
              "      <td>2</td>\n",
              "      <td>low</td>\n",
              "      <td>F</td>\n",
              "      <td>36</td>\n",
              "      <td>3819</td>\n",
              "    </tr>\n",
              "    <tr>\n",
              "      <th>33</th>\n",
              "      <td>B</td>\n",
              "      <td>Ship</td>\n",
              "      <td>4</td>\n",
              "      <td>2</td>\n",
              "      <td>234</td>\n",
              "      <td>3</td>\n",
              "      <td>medium</td>\n",
              "      <td>M</td>\n",
              "      <td>4</td>\n",
              "      <td>3261</td>\n",
              "    </tr>\n",
              "    <tr>\n",
              "      <th>35</th>\n",
              "      <td>F</td>\n",
              "      <td>Ship</td>\n",
              "      <td>5</td>\n",
              "      <td>4</td>\n",
              "      <td>149</td>\n",
              "      <td>3</td>\n",
              "      <td>medium</td>\n",
              "      <td>F</td>\n",
              "      <td>44</td>\n",
              "      <td>1811</td>\n",
              "    </tr>\n",
              "    <tr>\n",
              "      <th>...</th>\n",
              "      <td>...</td>\n",
              "      <td>...</td>\n",
              "      <td>...</td>\n",
              "      <td>...</td>\n",
              "      <td>...</td>\n",
              "      <td>...</td>\n",
              "      <td>...</td>\n",
              "      <td>...</td>\n",
              "      <td>...</td>\n",
              "      <td>...</td>\n",
              "    </tr>\n",
              "    <tr>\n",
              "      <th>10978</th>\n",
              "      <td>C</td>\n",
              "      <td>Ship</td>\n",
              "      <td>4</td>\n",
              "      <td>1</td>\n",
              "      <td>253</td>\n",
              "      <td>5</td>\n",
              "      <td>low</td>\n",
              "      <td>F</td>\n",
              "      <td>2</td>\n",
              "      <td>1362</td>\n",
              "    </tr>\n",
              "    <tr>\n",
              "      <th>10983</th>\n",
              "      <td>B</td>\n",
              "      <td>Ship</td>\n",
              "      <td>4</td>\n",
              "      <td>3</td>\n",
              "      <td>229</td>\n",
              "      <td>6</td>\n",
              "      <td>medium</td>\n",
              "      <td>M</td>\n",
              "      <td>1</td>\n",
              "      <td>1235</td>\n",
              "    </tr>\n",
              "    <tr>\n",
              "      <th>10988</th>\n",
              "      <td>A</td>\n",
              "      <td>Ship</td>\n",
              "      <td>4</td>\n",
              "      <td>3</td>\n",
              "      <td>192</td>\n",
              "      <td>4</td>\n",
              "      <td>low</td>\n",
              "      <td>F</td>\n",
              "      <td>2</td>\n",
              "      <td>1830</td>\n",
              "    </tr>\n",
              "    <tr>\n",
              "      <th>10989</th>\n",
              "      <td>B</td>\n",
              "      <td>Ship</td>\n",
              "      <td>5</td>\n",
              "      <td>1</td>\n",
              "      <td>218</td>\n",
              "      <td>5</td>\n",
              "      <td>medium</td>\n",
              "      <td>F</td>\n",
              "      <td>9</td>\n",
              "      <td>1603</td>\n",
              "    </tr>\n",
              "    <tr>\n",
              "      <th>10996</th>\n",
              "      <td>C</td>\n",
              "      <td>Ship</td>\n",
              "      <td>5</td>\n",
              "      <td>4</td>\n",
              "      <td>242</td>\n",
              "      <td>5</td>\n",
              "      <td>low</td>\n",
              "      <td>F</td>\n",
              "      <td>4</td>\n",
              "      <td>1155</td>\n",
              "    </tr>\n",
              "  </tbody>\n",
              "</table>\n",
              "<p>2200 rows × 10 columns</p>\n",
              "</div>"
            ],
            "text/plain": [
              "      Warehouse_block Mode_of_Shipment  Customer_care_calls  Customer_rating  \\\n",
              "1                   F           Flight                    4                5   \n",
              "25                  F             Ship                    3                1   \n",
              "29                  F             Ship                    5                4   \n",
              "33                  B             Ship                    4                2   \n",
              "35                  F             Ship                    5                4   \n",
              "...               ...              ...                  ...              ...   \n",
              "10978               C             Ship                    4                1   \n",
              "10983               B             Ship                    4                3   \n",
              "10988               A             Ship                    4                3   \n",
              "10989               B             Ship                    5                1   \n",
              "10996               C             Ship                    5                4   \n",
              "\n",
              "       Cost_of_the_Product  Prior_purchases Product_importance Gender  \\\n",
              "1                      216                2                low      M   \n",
              "25                     225                4                low      M   \n",
              "29                     183                2                low      F   \n",
              "33                     234                3             medium      M   \n",
              "35                     149                3             medium      F   \n",
              "...                    ...              ...                ...    ...   \n",
              "10978                  253                5                low      F   \n",
              "10983                  229                6             medium      M   \n",
              "10988                  192                4                low      F   \n",
              "10989                  218                5             medium      F   \n",
              "10996                  242                5                low      F   \n",
              "\n",
              "       Discount_offered  Weight_in_gms  \n",
              "1                    59           3088  \n",
              "25                   29           3496  \n",
              "29                   36           3819  \n",
              "33                    4           3261  \n",
              "35                   44           1811  \n",
              "...                 ...            ...  \n",
              "10978                 2           1362  \n",
              "10983                 1           1235  \n",
              "10988                 2           1830  \n",
              "10989                 9           1603  \n",
              "10996                 4           1155  \n",
              "\n",
              "[2200 rows x 10 columns]"
            ]
          },
          "execution_count": 716,
          "metadata": {},
          "output_type": "execute_result"
        }
      ],
      "source": [
        "X_test_c\n",
        "\n",
        "X_train_c=X_train_c.drop(columns=['ID'])\n",
        "X_test_c=X_test_c.drop(columns=['ID'])\n",
        "X_test_c\n",
        "\n"
      ]
    },
    {
      "cell_type": "code",
      "execution_count": 717,
      "metadata": {
        "id": "zT7iqLWCaXRM"
      },
      "outputs": [],
      "source": [
        "\n",
        "from sklearn.preprocessing import OneHotEncoder\n",
        "\n",
        "# create a list of categorical variable names\n",
        "cat_vars = ['Mode_of_Shipment','Warehouse_block', 'Product_importance','Gender']\n",
        "\n",
        "# initialize the ordinal encoder\n",
        "ohe=OneHotEncoder()\n",
        "feature_names = [f\"feature {i}\" for i in range(X_train_c.shape[1])]\n",
        "X_train_c.shape #(8799, 19)\n",
        "feature_names\n",
        "#make preprocess\n",
        "from sklearn.pipeline import make_pipeline \n",
        "from sklearn.compose import make_column_transformer\n",
        "preprocess=make_column_transformer((OneHotEncoder(),cat_vars), remainder=\"passthrough\")\n",
        "\n",
        "X_dev_before_transform = X_train_c.copy()\n",
        "X_test_before_transform = X_test_c.copy()\n",
        "\n",
        "X_train_c=preprocess.fit_transform(X_train_c)\n",
        "#fit_transform: fiit the preprocessing object to training data and transfrom it in one step\n",
        "X_test_c=preprocess.fit_transform(X_test_c)\n",
        "### after transformation the x_train becomes array: (8799, 19) numpy.ndarray\n"
      ]
    },
    {
      "cell_type": "code",
      "execution_count": 718,
      "metadata": {},
      "outputs": [
        {
          "data": {
            "text/plain": [
              "['feature 0',\n",
              " 'feature 1',\n",
              " 'feature 2',\n",
              " 'feature 3',\n",
              " 'feature 4',\n",
              " 'feature 5',\n",
              " 'feature 6',\n",
              " 'feature 7',\n",
              " 'feature 8',\n",
              " 'feature 9',\n",
              " 'feature 10',\n",
              " 'feature 11',\n",
              " 'feature 12',\n",
              " 'feature 13',\n",
              " 'feature 14',\n",
              " 'feature 15',\n",
              " 'feature 16',\n",
              " 'feature 17',\n",
              " 'feature 18']"
            ]
          },
          "execution_count": 718,
          "metadata": {},
          "output_type": "execute_result"
        }
      ],
      "source": [
        "feature_names = [f\"feature {i}\" for i in range(X_train_c.shape[1])]\n",
        "X_train_c.shape #(8799, 19)\n",
        "feature_names"
      ]
    },
    {
      "attachments": {},
      "cell_type": "markdown",
      "metadata": {
        "id": "_LVpZEKDXPW9"
      },
      "source": [
        "**1.7: Fit a Decision Tree on the development data until all leaves are pure. What is the performance of the tree on the development set and test set? Evaluate test and train accuarcy on F-1 score and accuracy.**\n",
        "\n",
        "- accuracy: (fraction of correct predictions): correct predictions / total number of data points"
      ]
    },
    {
      "cell_type": "code",
      "execution_count": null,
      "metadata": {},
      "outputs": [],
      "source": []
    },
    {
      "cell_type": "code",
      "execution_count": 719,
      "metadata": {
        "id": "75oSbcPgaY6J"
      },
      "outputs": [
        {
          "name": "stdout",
          "output_type": "stream",
          "text": [
            "Accuracy on development data: 1.000\n",
            "Accuracy on test data: 0.650\n",
            "              precision    recall  f1-score   support\n",
            "\n",
            "           0       0.57      0.55      0.56       887\n",
            "           1       0.70      0.72      0.71      1313\n",
            "\n",
            "    accuracy                           0.65      2200\n",
            "   macro avg       0.64      0.63      0.63      2200\n",
            "weighted avg       0.65      0.65      0.65      2200\n",
            "\n",
            "F1 score\n",
            "The f-1 score is : 0.709\n"
          ]
        }
      ],
      "source": [
        "## YOUR CODE HERE\n",
        "from sklearn.tree import DecisionTreeClassifier, plot_tree\n",
        "from sklearn.metrics import accuracy_score, brier_score_loss\n",
        "from sklearn.metrics import classification_report, f1_score\n",
        "from sklearn.metrics import precision_recall_fscore_support\n",
        "\n",
        "# create an instance of the DecisionTreeClassifier class\n",
        "clf1 = DecisionTreeClassifier(criterion='entropy')\n",
        "\n",
        "# fit the decision tree on the development data\n",
        "clf1=clf1.fit(X_train_c, y_train_c)\n",
        "#Predict the response for test dataset\n",
        "y_pred = clf1.predict(X_test_c)\n",
        "###print(\"Accuracy:\", accuracy_score(y_test_c, y_pred))\n",
        "accuracy = clf1.score(X_train_c, y_train_c)\n",
        "print(f\"Accuracy on development data: {accuracy:.3f}\")\n",
        "accuracy_test = clf1.score(X_test_c, y_test_c)\n",
        "print(f\"Accuracy on test data: {accuracy_test:.3f}\")\n",
        "\n",
        "print(classification_report(y_test_c, y_pred))\n",
        "\n",
        "#F-1 score:\n",
        "f1_score=f1_score(y_test_c, y_pred)\n",
        "print(\"F1 score\")\n",
        "print(f\"The f-1 score is : {f1_score:.3f}\")"
      ]
    },
    {
      "cell_type": "markdown",
      "metadata": {
        "id": "SwHLxOWVXVIO"
      },
      "source": [
        "**1.8: Visualize the trained tree until the max_depth 8.**"
      ]
    },
    {
      "cell_type": "code",
      "execution_count": 474,
      "metadata": {},
      "outputs": [
        {
          "data": {
            "image/png": "[encoded data removed]",
            "text/plain": [
              "<Figure size 720x720 with 1 Axes>"
            ]
          },
          "metadata": {
            "needs_background": "light"
          },
          "output_type": "display_data"
        }
      ],
      "source": [
        "from sklearn import tree\n",
        "fig, ax = plt.subplots(figsize=(10, 10))\n",
        "tree.plot_tree(clf1, fontsize = 10, max_depth=8)\n",
        "\n",
        "plt.show()"
      ]
    },
    {
      "cell_type": "code",
      "execution_count": 475,
      "metadata": {},
      "outputs": [
        {
          "data": {
            "image/png": "[encoded data removed]",
            "text/plain": [
              "<Figure size 432x288 with 1 Axes>"
            ]
          },
          "metadata": {
            "needs_background": "light"
          },
          "output_type": "display_data"
        },
        {
          "data": {
            "text/html": [
              "<div>\n",
              "<style scoped>\n",
              "    .dataframe tbody tr th:only-of-type {\n",
              "        vertical-align: middle;\n",
              "    }\n",
              "\n",
              "    .dataframe tbody tr th {\n",
              "        vertical-align: top;\n",
              "    }\n",
              "\n",
              "    .dataframe thead th {\n",
              "        text-align: right;\n",
              "    }\n",
              "</style>\n",
              "<table border=\"1\" class=\"dataframe\">\n",
              "  <thead>\n",
              "    <tr style=\"text-align: right;\">\n",
              "      <th>max_depth</th>\n",
              "      <th>1</th>\n",
              "      <th>2</th>\n",
              "      <th>3</th>\n",
              "      <th>4</th>\n",
              "      <th>5</th>\n",
              "      <th>6</th>\n",
              "      <th>7</th>\n",
              "      <th>8</th>\n",
              "      <th>9</th>\n",
              "      <th>10</th>\n",
              "      <th>11</th>\n",
              "      <th>12</th>\n",
              "      <th>13</th>\n",
              "    </tr>\n",
              "  </thead>\n",
              "  <tbody>\n",
              "    <tr>\n",
              "      <th>accuracy</th>\n",
              "      <td>0.647727</td>\n",
              "      <td>0.688182</td>\n",
              "      <td>0.680909</td>\n",
              "      <td>0.684091</td>\n",
              "      <td>0.687273</td>\n",
              "      <td>0.686818</td>\n",
              "      <td>0.685</td>\n",
              "      <td>0.684091</td>\n",
              "      <td>0.675455</td>\n",
              "      <td>0.673636</td>\n",
              "      <td>0.662727</td>\n",
              "      <td>0.657273</td>\n",
              "      <td>0.664545</td>\n",
              "    </tr>\n",
              "  </tbody>\n",
              "</table>\n",
              "</div>"
            ],
            "text/plain": [
              "max_depth        1         2         3         4         5         6      7   \\\n",
              "accuracy   0.647727  0.688182  0.680909  0.684091  0.687273  0.686818  0.685   \n",
              "\n",
              "max_depth        8         9         10        11        12        13  \n",
              "accuracy   0.684091  0.675455  0.673636  0.662727  0.657273  0.664545  "
            ]
          },
          "execution_count": 475,
          "metadata": {},
          "output_type": "execute_result"
        }
      ],
      "source": [
        "max_depth_range = list(range(1, 14))\n",
        "# List to store the accuracy for each value of max_depth:\n",
        "accuracy = []\n",
        "for depth in max_depth_range:\n",
        "    \n",
        "    clf1 = DecisionTreeClassifier(max_depth = depth, \n",
        "                             random_state = 42)\n",
        "    clf1.fit(X_train_c, y_train_c)\n",
        "    score = clf1.score(X_test_c, y_test_c)\n",
        "    accuracy.append(score)\n",
        "\n",
        "# plot the line plot\n",
        "plt.plot(max_depth_range, accuracy)\n",
        "plt.xlabel('Max Depth')\n",
        "plt.ylabel('Accuracy')\n",
        "plt.title('Accuracy vs Max Depth')\n",
        "plt.show()\n",
        "pd.DataFrame([accuracy],\n",
        "             columns=pd.Series(max_depth_range,name='max_depth'),\n",
        "             index=[\"accuracy\"])\n"
      ]
    },
    {
      "cell_type": "markdown",
      "metadata": {
        "id": "XcupbfqxXbPn"
      },
      "source": [
        "**1.9: Prune the tree using one of the techniques discussed in class and evaluate the performance.**\n",
        "\n",
        "**Print the optimal value of the tuned parameter.**"
      ]
    },
    {
      "cell_type": "code",
      "execution_count": 491,
      "metadata": {},
      "outputs": [
        {
          "data": {
            "image/png": "[encoded data removed]",
            "text/plain": [
              "<Figure size 432x288 with 1 Axes>"
            ]
          },
          "metadata": {
            "needs_background": "light"
          },
          "output_type": "display_data"
        }
      ],
      "source": [
        "path = clf1.cost_complexity_pruning_path(X_train_c, y_train_c)\n",
        "pathDF=pd.DataFrame(path)\n",
        "# Plot the pruning curve\n",
        "fig, ax = plt.subplots()\n",
        "ax.plot(path.ccp_alphas, path.impurities, marker='o', drawstyle=\"steps-post\")\n",
        "ax.set_xlabel(\"Effective alpha\")\n",
        "ax.set_ylabel(\"Total impurity of leaves\")\n",
        "ax.set_title(\"Total Impurity vs Effective Alpha for training set\")\n",
        "plt.show()\n",
        "#To select the optimal value of alpha, we want to find the point on the curve that balances simplicity and accuracy. \n",
        "#This can be done by visually inspecting the curve or by using a metric such as cross-validation \n",
        "#to evaluate the accuracy of the pruned tree at different values of alpha."
      ]
    },
    {
      "cell_type": "code",
      "execution_count": 477,
      "metadata": {},
      "outputs": [
        {
          "data": {
            "text/plain": [
              "0      0.000000\n",
              "1      0.000042\n",
              "2      0.000058\n",
              "3      0.000064\n",
              "4      0.000068\n",
              "         ...   \n",
              "203    0.000736\n",
              "204    0.001166\n",
              "205    0.001858\n",
              "206    0.003576\n",
              "207    0.006458\n",
              "Name: ccp_alphas, Length: 208, dtype: float64"
            ]
          },
          "execution_count": 477,
          "metadata": {},
          "output_type": "execute_result"
        }
      ],
      "source": [
        "pathDF=pd.DataFrame(path)\n",
        "pathDF.ccp_alphas[:-1]"
      ]
    },
    {
      "cell_type": "code",
      "execution_count": 492,
      "metadata": {},
      "outputs": [
        {
          "data": {
            "text/plain": [
              "Text(0.5, 0.98, 'Effective Alpha Based on Depth & Accuracy Scores')"
            ]
          },
          "execution_count": 492,
          "metadata": {},
          "output_type": "execute_result"
        },
        {
          "data": {
            "image/png": "[encoded data removed]",
            "text/plain": [
              "<Figure size 864x288 with 2 Axes>"
            ]
          },
          "metadata": {
            "needs_background": "light"
          },
          "output_type": "display_data"
        }
      ],
      "source": [
        "#finding the optimal value of alpha: \n",
        "from sklearn.metrics import accuracy_score\n",
        "\n",
        "clfs=[]\n",
        "ccp_alphas, impurities = path.ccp_alphas, path.impurities\n",
        "for ccp_alpha in path.ccp_alphas:\n",
        "    clf= DecisionTreeClassifier(random_state=42, ccp_alpha=ccp_alpha)\n",
        "    clf.fit(X_train_c, y_train_c)\n",
        "    clfs.append(clf)\n",
        "\n",
        "tree_depths=[clf.tree_.max_depth for clf in clfs]\n",
        "tree_depths\n",
        "fig,ax = plt.subplots(1,2,figsize=(12,4))\n",
        "ax[0].plot(ccp_alphas[:-1], tree_depths[:-1])\n",
        "ax[0].set_xlabel(\"effective alpha\")\n",
        "ax[0].set_ylabel(\"total depth\")\n",
        "\n",
        "acc_scores= [accuracy_score(y_test_c, clf.predict(X_test_c)) for clf in clfs]\n",
        "ax[1].plot(ccp_alphas[:-1], acc_scores[:-1])\n",
        "ax[1].set_xlabel(\"effective alpha\")\n",
        "ax[1].set_ylabel(\"Accuracy scores\")\n",
        "fig.suptitle('Effective Alpha Based on Depth & Accuracy Scores')\n"
      ]
    },
    {
      "cell_type": "code",
      "execution_count": null,
      "metadata": {},
      "outputs": [
        {
          "data": {
            "text/plain": [
              "array([0.64954545, 0.64954545, 0.64954545, 0.65      , 0.65      ,\n",
              "       0.65      , 0.65      , 0.65      , 0.65      , 0.64909091,\n",
              "       0.64909091, 0.64909091, 0.64818182, 0.64818182, 0.64909091,\n",
              "       0.64909091, 0.64954545, 0.64954545, 0.65045455, 0.64954545,\n",
              "       0.64954545, 0.64954545, 0.64909091, 0.64909091, 0.64909091,\n",
              "       0.64909091, 0.64818182, 0.64818182, 0.64727273, 0.64727273,\n",
              "       0.64636364, 0.64636364, 0.64636364, 0.64636364, 0.64636364,\n",
              "       0.64590909, 0.64727273, 0.64727273, 0.64772727, 0.64727273,\n",
              "       0.64772727, 0.64772727, 0.64727273, 0.64636364, 0.64545455,\n",
              "       0.64454545, 0.64454545, 0.64454545, 0.64454545, 0.64454545,\n",
              "       0.64454545, 0.64454545, 0.64454545, 0.64454545, 0.64454545,\n",
              "       0.64454545, 0.64454545, 0.64454545, 0.64454545, 0.64454545,\n",
              "       0.64363636, 0.64363636, 0.64318182, 0.64363636, 0.64363636,\n",
              "       0.64454545, 0.64727273, 0.64727273, 0.64590909, 0.64590909,\n",
              "       0.64681818, 0.64681818, 0.64727273, 0.64818182, 0.64818182,\n",
              "       0.64818182, 0.65      , 0.64954545, 0.64909091, 0.64954545,\n",
              "       0.64954545, 0.64772727, 0.64772727, 0.64772727, 0.64772727,\n",
              "       0.64727273, 0.64545455, 0.645     , 0.645     , 0.64590909,\n",
              "       0.64636364, 0.64727273, 0.65090909, 0.65090909, 0.65090909,\n",
              "       0.65090909, 0.64818182, 0.64863636, 0.64863636, 0.64863636,\n",
              "       0.64636364, 0.64636364, 0.64636364, 0.64636364, 0.64636364,\n",
              "       0.64909091, 0.64909091, 0.64909091, 0.65318182, 0.65272727,\n",
              "       0.65272727, 0.65272727, 0.65272727, 0.65181818, 0.65181818,\n",
              "       0.65181818, 0.65227273, 0.65090909, 0.65090909, 0.65045455,\n",
              "       0.64909091, 0.64863636, 0.65045455, 0.65090909, 0.65181818,\n",
              "       0.65181818, 0.65136364, 0.65136364, 0.65136364, 0.65181818,\n",
              "       0.65181818, 0.64954545, 0.65136364, 0.65045455, 0.65045455,\n",
              "       0.65045455, 0.65045455, 0.65136364, 0.65136364, 0.65136364,\n",
              "       0.65227273, 0.65181818, 0.65318182, 0.65363636, 0.65090909,\n",
              "       0.65181818, 0.65454545, 0.65636364, 0.65636364, 0.65636364,\n",
              "       0.65636364, 0.65727273, 0.66      , 0.66045455, 0.66      ,\n",
              "       0.66      , 0.66      , 0.66045455, 0.65818182, 0.65818182,\n",
              "       0.65818182, 0.65727273, 0.65954545, 0.66090909, 0.66090909,\n",
              "       0.66272727, 0.66772727, 0.67045455, 0.66909091, 0.66909091,\n",
              "       0.67045455, 0.67136364, 0.67136364, 0.67045455, 0.67045455,\n",
              "       0.66681818, 0.66863636, 0.67636364, 0.67590909, 0.67318182,\n",
              "       0.67318182, 0.675     , 0.675     , 0.675     , 0.67272727,\n",
              "       0.67318182, 0.67318182, 0.67363636, 0.67227273, 0.68      ,\n",
              "       0.68136364, 0.68136364, 0.68136364, 0.68727273, 0.68590909,\n",
              "       0.68590909, 0.68590909, 0.68772727, 0.68818182, 0.68727273,\n",
              "       0.68636364, 0.68636364, 0.68636364, 0.68727273, 0.68727273,\n",
              "       0.68409091, 0.68      , 0.64772727])"
            ]
          },
          "execution_count": 342,
          "metadata": {},
          "output_type": "execute_result"
        }
      ],
      "source": [
        "np.array(acc_scores[:-1])"
      ]
    },
    {
      "cell_type": "code",
      "execution_count": 497,
      "metadata": {
        "id": "6AkmNEgMab26"
      },
      "outputs": [
        {
          "name": "stdout",
          "output_type": "stream",
          "text": [
            "the best alpha is 0.0\n"
          ]
        },
        {
          "data": {
            "text/plain": [
              "0.6445454545454545"
            ]
          },
          "execution_count": 497,
          "metadata": {},
          "output_type": "execute_result"
        }
      ],
      "source": [
        "## YOUR CODE HERE\n",
        "# Define the parameter grid to search over\n",
        "from sklearn.model_selection import GridSearchCV\n",
        "\n",
        "clf1 = DecisionTreeClassifier(criterion='entropy')\n",
        "\n",
        "# fit the decision tree on the development data\n",
        "clf1=clf1.fit(X_train_c, y_train_c)\n",
        "param_grid = {\n",
        "    'ccp_alpha': [0.0,0.0006,0.0009, 0.005,0.01, 0.05, 0.1, 0.5, 1.0]\n",
        "}\n",
        "\n",
        "# Perform grid search using 5-fold cross-validation\n",
        "grid_search = GridSearchCV(clf1, param_grid, cv=5)\n",
        "grid_search.fit(X_train_c, y_train_c)\n",
        "\n",
        "# Get the best alpha value from the grid search\n",
        "best_alpha = grid_search.best_params_['ccp_alpha']\n",
        "print(f\"the best alpha is {best_alpha}\")\n",
        "# Prune the decision tree using the best alpha value\n",
        "pruned_tree = DecisionTreeClassifier(ccp_alpha=best_alpha, random_state=42)\n",
        "pruned_tree.fit(X_train_c, y_train_c)\n",
        "\n",
        "# Evaluate the performance of the pruned tree\n",
        "pruned_tree_score = pruned_tree.score(X_test_c, y_test_c)\n",
        "pruned_tree_score"
      ]
    },
    {
      "cell_type": "code",
      "execution_count": 498,
      "metadata": {},
      "outputs": [
        {
          "name": "stdout",
          "output_type": "stream",
          "text": [
            "The best performance on test data is : 0.68818, and the corresponding alpha value is 0.00045\n"
          ]
        }
      ],
      "source": [
        "index_max = np.argmax(np.array(acc_scores[:-1]))\n",
        "index_max\n",
        "best_alpha1 = ccp_alphas[index_max]\n",
        "best_alpha1\n",
        "print(\"The best performance on test data is : {:.5f}, and the corresponding alpha value is {:.5f}\".format(acc_scores[index_max], best_alpha1))"
      ]
    },
    {
      "cell_type": "code",
      "execution_count": 500,
      "metadata": {},
      "outputs": [
        {
          "name": "stdout",
          "output_type": "stream",
          "text": [
            "Train score : 0.5966587112171837 \n",
            "Test score : 0.5968181818181818 \n"
          ]
        }
      ],
      "source": [
        "best_alpha1\n",
        "# Accuracy score\n",
        "print(\"Train score : {} \".format(clf.score(X_train_c, y_train_c)))\n",
        "print(\"Test score : {} \".format(clf.score(X_test_c, y_test_c)))"
      ]
    },
    {
      "cell_type": "markdown",
      "metadata": {
        "id": "Xevu4k1dXrld"
      },
      "source": [
        "**1.10: List the top 3 most important features for this trained tree? How would you justify these features being the most important?**"
      ]
    },
    {
      "attachments": {},
      "cell_type": "markdown",
      "metadata": {},
      "source": [
        "- be care when combining the names (ohe + num), the order matters since it can affect the sorting process a lot.\n",
        "- in the sample answer key, zip & sort woule be in wrong order if the name in the wrong position."
      ]
    },
    {
      "cell_type": "code",
      "execution_count": 566,
      "metadata": {},
      "outputs": [
        {
          "data": {
            "image/png": "[encoded data removed]",
            "text/plain": [
              "<Figure size 432x288 with 1 Axes>"
            ]
          },
          "metadata": {
            "needs_background": "light"
          },
          "output_type": "display_data"
        }
      ],
      "source": [
        "# Select the best accuracy alpha values and train again\n",
        "clf = DecisionTreeClassifier(random_state=0, ccp_alpha=best_alpha1)\n",
        "clf.fit(X_train_c, y_train_c)\n",
        "\n",
        "#Computing importance features\n",
        "importances = clf.feature_importances_\n",
        "importances\n",
        "#get the names for features\n",
        "num_features = ['Weight_in_gms', 'Prior_purchases',\n",
        "                'Discount_offered', 'Customer_rating',\n",
        "                'Customer_care_calls', 'Cost_of_the_Product']\n",
        "ohe_feature_names = preprocess.named_transformers_[\"onehotencoder\"].get_feature_names_out()\n",
        "feature_names = ohe_feature_names.tolist() + num_features\n",
        "feature_names\n",
        "data={'importance':importances,\n",
        "      'feature_names': feature_names}\n",
        "df = pd.DataFrame(data).sort_values('importance', ascending=False)\n",
        "df\n",
        "\n",
        "fig, ax = plt.subplots()\n",
        "df.plot.bar(x='feature_names', y='importance', rot=90, ax=ax)\n",
        "ax.set_title(\"Feature importances ranking\")\n",
        "ax.set_ylabel(\"Feature Importance\")\n",
        "fig.tight_layout()\n"
      ]
    },
    {
      "cell_type": "code",
      "execution_count": 568,
      "metadata": {},
      "outputs": [
        {
          "data": {
            "text/plain": [
              "array([17, 18, 15, 16, 14, 13,  0, 10,  7,  4,  9,  6,  3, 11, 12,  1,  5,\n",
              "        8,  2])"
            ]
          },
          "execution_count": 568,
          "metadata": {},
          "output_type": "execute_result"
        }
      ],
      "source": [
        "\n",
        "importances.argsort()[::-1]\n"
      ]
    },
    {
      "cell_type": "markdown",
      "metadata": {
        "id": "0EaPUeMN5K62"
      },
      "source": [
        "## Question 2: Random Forests"
      ]
    },
    {
      "attachments": {},
      "cell_type": "markdown",
      "metadata": {
        "id": "e4nmOojt5cAn"
      },
      "source": [
        "**2.1: Train a Random Forest model on the development dataset using RandomForestClassifier class in sklearn. Use the default parameters. Evaluate the performance of the model on test dataset. Use accuracy and F1 score to evaluate. Does this perform better than Decision Tree on the test dataset (compare to results in Q 1.7)?**\n",
        "\n",
        "- Yes. The score is higher for random forest "
      ]
    },
    {
      "cell_type": "code",
      "execution_count": 648,
      "metadata": {},
      "outputs": [
        {
          "data": {
            "text/plain": [
              "array([[1.000e+00, 0.000e+00, 0.000e+00, ..., 2.000e+00, 5.900e+01,\n",
              "        3.088e+03],\n",
              "       [0.000e+00, 0.000e+00, 1.000e+00, ..., 4.000e+00, 2.900e+01,\n",
              "        3.496e+03],\n",
              "       [0.000e+00, 0.000e+00, 1.000e+00, ..., 2.000e+00, 3.600e+01,\n",
              "        3.819e+03],\n",
              "       ...,\n",
              "       [0.000e+00, 0.000e+00, 1.000e+00, ..., 4.000e+00, 2.000e+00,\n",
              "        1.830e+03],\n",
              "       [0.000e+00, 0.000e+00, 1.000e+00, ..., 5.000e+00, 9.000e+00,\n",
              "        1.603e+03],\n",
              "       [0.000e+00, 0.000e+00, 1.000e+00, ..., 5.000e+00, 4.000e+00,\n",
              "        1.155e+03]])"
            ]
          },
          "execution_count": 648,
          "metadata": {},
          "output_type": "execute_result"
        }
      ],
      "source": [
        "X_test_c"
      ]
    },
    {
      "cell_type": "code",
      "execution_count": 658,
      "metadata": {
        "id": "KTB50d0fagfQ"
      },
      "outputs": [
        {
          "name": "stdout",
          "output_type": "stream",
          "text": [
            "test_acc_rfc is 0.6636\n",
            " Random_Forests.acc_score on test data is 0.6636\n",
            "Decision_Tree.Accuracy on test data is: 0.639\n",
            "Test data F1 score:  0.6959737058340181\n"
          ]
        }
      ],
      "source": [
        "## YOUR CODE HERE\n",
        "\n",
        "from sklearn.ensemble import RandomForestClassifier, HistGradientBoostingClassifier\n",
        "from sklearn.metrics import f1_score\n",
        "\n",
        "rfc = RandomForestClassifier()\n",
        "rfc=rfc.fit(X_train_c, y_train_c)\n",
        "\n",
        "\n",
        "y_pred_test_rfc = rfc.predict(X_test_c)\n",
        "test_acc_rfc = sum(np.where(y_pred_test_rfc == y_test_c, 1, 0))/y_test_c.shape[0]\n",
        "print(f'test_acc_rfc is {test_acc_rfc:.4f}')\n",
        "acc_score=rfc.score(X_test_c, y_test_c)\n",
        "print(f' Random_Forests.acc_score on test data is {acc_score:.4f}')\n",
        "print(f\"Decision_Tree.Accuracy on test data is: {accuracy_test:.3f}\")\n",
        "prfs = f1_score(y_test_c,y_pred_test_rfc)\n",
        "print(\"Test data F1 score: \", f1_score(y_test_c, y_pred_test_rfc))\n",
        "\n",
        "#F-1 score: a single value that summarizes the model's performance in binary classification.\n",
        "#  Essentially, it balances the precision and reall when the data are imbalanced as a good measure. \n",
        "#precision: the ratio of true positive \n",
        "# \n",
        "# \n",
        "#  of the total positive prediction (true pos + false pos)\n",
        "#recall: the ratio of actual positive instance out of the actual positive rediction (true pos+ false neg)"
      ]
    },
    {
      "cell_type": "code",
      "execution_count": 662,
      "metadata": {},
      "outputs": [
        {
          "data": {
            "image/png": "[encoded data removed]",
            "text/plain": [
              "<Figure size 576x432 with 1 Axes>"
            ]
          },
          "metadata": {
            "needs_background": "light"
          },
          "output_type": "display_data"
        }
      ],
      "source": [
        "from sklearn.ensemble import RandomForestClassifier\n",
        "from sklearn.model_selection import validation_curve\n",
        "import matplotlib.pyplot as plt\n",
        "import numpy as np\n",
        "\n",
        "# define the range of values for the hyperparameter to tune\n",
        "n_estimators_range = np.arange(1, 40, 5)\n",
        "\n",
        "# define the random forest classifier\n",
        "#rfc = RandomForestClassifier()\n",
        "\n",
        "# compute the train-validation curve using 5-fold cross-validation\n",
        "train_scores, valid_scores = validation_curve(rfc, X_train_c, y_train_c,\n",
        "                                              param_name='n_estimators', \n",
        "                                              param_range=n_estimators_range,\n",
        "                                              cv=5, scoring='accuracy')\n",
        "\n",
        "# compute the mean and standard deviation of the train-validation scores\n",
        "mean_train_scores = np.mean(train_scores, axis=1)\n",
        "std_train_scores = np.std(train_scores, axis=1)\n",
        "mean_valid_scores = np.mean(valid_scores, axis=1)\n",
        "std_valid_scores = np.std(valid_scores, axis=1)\n",
        "\n",
        "# plot the train-validation curve\n",
        "plt.figure(figsize=(8, 6))\n",
        "plt.title('Train-Validation Curve for Random Forest Classifier')\n",
        "plt.xlabel('Number of Estimators')\n",
        "plt.ylabel('Accuracy Score')\n",
        "plt.ylim(0.8, 1.0)\n",
        "plt.fill_between(n_estimators_range, mean_train_scores - std_train_scores, \n",
        "                 mean_train_scores + std_train_scores, alpha=0.1, color='r')\n",
        "plt.fill_between(n_estimators_range, mean_valid_scores - std_valid_scores, \n",
        "                 mean_valid_scores + std_valid_scores, alpha=0.1, color='g')\n",
        "plt.plot(n_estimators_range, mean_train_scores, 'o-', color='r', label='Training score')\n",
        "plt.plot(n_estimators_range, mean_valid_scores, 'o-', color='g', label='Validation score')\n",
        "plt.legend(loc='best')\n",
        "plt.show()\n"
      ]
    },
    {
      "cell_type": "markdown",
      "metadata": {
        "id": "QoJQilC78kv6"
      },
      "source": [
        "**2.2: Do all trees in the trained random forest model have pure leaves? How would you verify that all trees have pure leaves? Print the score (mean accuracy) values of your choosen method**"
      ]
    },
    {
      "cell_type": "code",
      "execution_count": 660,
      "metadata": {},
      "outputs": [
        {
          "data": {
            "text/html": [
              "<div>\n",
              "<style scoped>\n",
              "    .dataframe tbody tr th:only-of-type {\n",
              "        vertical-align: middle;\n",
              "    }\n",
              "\n",
              "    .dataframe tbody tr th {\n",
              "        vertical-align: top;\n",
              "    }\n",
              "\n",
              "    .dataframe thead th {\n",
              "        text-align: right;\n",
              "    }\n",
              "</style>\n",
              "<table border=\"1\" class=\"dataframe\">\n",
              "  <thead>\n",
              "    <tr style=\"text-align: right;\">\n",
              "      <th></th>\n",
              "      <th>0</th>\n",
              "    </tr>\n",
              "  </thead>\n",
              "  <tbody>\n",
              "    <tr>\n",
              "      <th>0</th>\n",
              "      <td>0.634545</td>\n",
              "    </tr>\n",
              "    <tr>\n",
              "      <th>1</th>\n",
              "      <td>0.638182</td>\n",
              "    </tr>\n",
              "    <tr>\n",
              "      <th>2</th>\n",
              "      <td>0.642273</td>\n",
              "    </tr>\n",
              "    <tr>\n",
              "      <th>3</th>\n",
              "      <td>0.641364</td>\n",
              "    </tr>\n",
              "    <tr>\n",
              "      <th>4</th>\n",
              "      <td>0.652727</td>\n",
              "    </tr>\n",
              "    <tr>\n",
              "      <th>...</th>\n",
              "      <td>...</td>\n",
              "    </tr>\n",
              "    <tr>\n",
              "      <th>95</th>\n",
              "      <td>0.631818</td>\n",
              "    </tr>\n",
              "    <tr>\n",
              "      <th>96</th>\n",
              "      <td>0.655455</td>\n",
              "    </tr>\n",
              "    <tr>\n",
              "      <th>97</th>\n",
              "      <td>0.634545</td>\n",
              "    </tr>\n",
              "    <tr>\n",
              "      <th>98</th>\n",
              "      <td>0.640455</td>\n",
              "    </tr>\n",
              "    <tr>\n",
              "      <th>99</th>\n",
              "      <td>0.635909</td>\n",
              "    </tr>\n",
              "  </tbody>\n",
              "</table>\n",
              "<p>100 rows × 1 columns</p>\n",
              "</div>"
            ],
            "text/plain": [
              "           0\n",
              "0   0.634545\n",
              "1   0.638182\n",
              "2   0.642273\n",
              "3   0.641364\n",
              "4   0.652727\n",
              "..       ...\n",
              "95  0.631818\n",
              "96  0.655455\n",
              "97  0.634545\n",
              "98  0.640455\n",
              "99  0.635909\n",
              "\n",
              "[100 rows x 1 columns]"
            ]
          },
          "execution_count": 660,
          "metadata": {},
          "output_type": "execute_result"
        }
      ],
      "source": [
        "\n",
        "trees = rfc.estimators_\n",
        "trees[0].tree_.children_left\n",
        "trees[0].tree_.impurity\n",
        "\n",
        "\n",
        "scores=[]\n",
        "for e in rfc.estimators_ :\n",
        "  training_score = e.score(X_test_c, y_test_c)\n",
        "  scores.append(training_score)\n",
        "pd.DataFrame(scores)"
      ]
    },
    {
      "cell_type": "code",
      "execution_count": 606,
      "metadata": {},
      "outputs": [],
      "source": [
        "def bfs(clf):\n",
        "    '''Implementing Breadth First Search to find the Impurities in the Leaf Nodes'''\n",
        "    q = [0]\n",
        "    l_c = clf.tree_.children_left\n",
        "    r_c = clf.tree_.children_right\n",
        "    imp = clf.tree_.impurity\n",
        "    imp_leaf = []\n",
        "    while q:\n",
        "        temp = q.pop(0)\n",
        "        # If left child and right child are same it means that it is a leaf node.\n",
        "        if l_c[temp] == r_c[temp]:\n",
        "            impurity = imp[temp]\n",
        "            imp_leaf.append(impurity)\n",
        "        else:\n",
        "            q.append(l_c[temp])\n",
        "            q.append(r_c[temp])\n",
        "    return imp_leaf\n",
        "\n",
        "trees = rfc.estimators_\n",
        "for dec_tree in trees:\n",
        "    leaf_node_impurity = bfs(dec_tree)\n",
        "    assert all(leaf_node_impurity) == 0.0"
      ]
    },
    {
      "cell_type": "code",
      "execution_count": 608,
      "metadata": {
        "id": "JqE9bxz6ah04"
      },
      "outputs": [
        {
          "name": "stdout",
          "output_type": "stream",
          "text": [
            "Mean score:0.6003\n"
          ]
        }
      ],
      "source": []
    },
    {
      "cell_type": "markdown",
      "metadata": {
        "id": "Nf_5wY4C8xHa"
      },
      "source": [
        "**2.3: Assume you want to improve the performance of this model. Also, assume that you had to pick two hyperparameters that you could tune to improve its performance. Which hyperparameters would you choose and why?**\n"
      ]
    },
    {
      "attachments": {},
      "cell_type": "markdown",
      "metadata": {},
      "source": [
        "- I choose n_estimators (control the # of trees) and \"min samples split\" (can help control overfitting by limiting the number of min samples in splits)."
      ]
    },
    {
      "cell_type": "code",
      "execution_count": 663,
      "metadata": {
        "id": "pGdmmTjSat6w"
      },
      "outputs": [],
      "source": [
        "## YOUR SOLUTION HERE\n",
        "\n",
        "# Specify the hyperparameter space to search\n",
        "param_grid = {'n_estimators': [10, 20, 30, 50, 70], #The number of decision trees in the forest. \n",
        "              #Increasing this value may improve the model's performance, but also increases the training time and memory usage.\n",
        "              \"min_samples_split\":  [8,10,12,13,15]}\n",
        "\n",
        "# # Perform grid search to find the best hyperparameters\n",
        "# grid_search = GridSearchCV(rfc, param_grid=param_grid, cv=5)\n",
        "# grid_search.fit(X_train_c, y_train_c)\n",
        "\n",
        "# # Print the best hyperparameters and mean score\n",
        "# print(\"Best hyperparameters: \", grid_search.best_params_)\n",
        "# print(\"Mean score: \", grid_search.best_score_)"
      ]
    },
    {
      "cell_type": "markdown",
      "metadata": {
        "id": "4L5ymzKB84BQ"
      },
      "source": [
        "**2.4: Now, assume you had to choose up to 5 different values (each) for these two hyperparameters. How would you choose these values that could potentially give you a performance lift?**"
      ]
    },
    {
      "cell_type": "code",
      "execution_count": 673,
      "metadata": {},
      "outputs": [],
      "source": [
        "## YOUR SOLUTION HERE\n",
        "params = {\"n_estimators\":[50,80,100,130,150],\n",
        "              \"min_samples_split\":  [8,10,12,13,15]}"
      ]
    },
    {
      "attachments": {},
      "cell_type": "markdown",
      "metadata": {
        "id": "y5N_oxH7av-O"
      },
      "source": [
        "\n",
        "- I chose the max_features since it only 3-5 features that affect the model performance while we have multiple columns to fit the Model.\n",
        "- I choose the estimator: \n"
      ]
    },
    {
      "cell_type": "markdown",
      "metadata": {
        "id": "ipLNT1y_84rI"
      },
      "source": [
        "**2.5: Perform model selection using the chosen values for the hyperparameters. Use out-of-bag (OOB) error for finding the optimal hyperparameters. Report on the optimal hyperparameters. Estimate the performance of the optimal model (model trained with optimal hyperparameters) on train and test dataset? Has the performance improved over your plain-vanilla random forest model trained in Q2.1?**"
      ]
    },
    {
      "cell_type": "code",
      "execution_count": 676,
      "metadata": {},
      "outputs": [
        {
          "name": "stdout",
          "output_type": "stream",
          "text": [
            "OOB: 0.66417\n",
            "Grid: {'min_samples_split': 15, 'n_estimators': 150}\n",
            "0.6641663825434708\n"
          ]
        }
      ],
      "source": [
        "# Initialize the random forest classifier\n",
        "rf = RandomForestClassifier(oob_score=True, random_state=42)\n",
        "\n",
        "# # Use GridSearchCV to search over the parameter grid and find the best set of hyperparameters\n",
        "# grid_search = GridSearchCV(rf, param_grid=param_grid, cv=5, verbose=2, n_jobs=-1, scoring='neg_mean_squared_error')\n",
        "# grid_search.fit(X_train_c, y_train_c)\n",
        "from sklearn.model_selection import ParameterGrid\n",
        "best_score=-1\n",
        "\n",
        "for g in ParameterGrid(params):\n",
        "    rf.set_params(**g)\n",
        "    rf.fit(X_train_c, y_train_c)\n",
        "    if rf.oob_score > best_score:\n",
        "        best_score= rf.oob_score_\n",
        "        best_grid=g\n",
        "print(\"OOB: %0.5f\"%best_score)\n",
        "print(\"Grid:\", best_grid)"
      ]
    },
    {
      "cell_type": "code",
      "execution_count": 690,
      "metadata": {
        "id": "1uRgvlVuayc0"
      },
      "outputs": [
        {
          "name": "stdout",
          "output_type": "stream",
          "text": [
            "test_acc_rf_opt is 0.6718\n",
            "Optimal_model.acc_score on test data is 0.6718\n",
            "F1 Score :0.6864 \n",
            "Train accuray : 0.9374928969201045 \n"
          ]
        }
      ],
      "source": [
        "# Train a random forest model on the full training set with the optimal hyperparameters\n",
        "rf_optimal = RandomForestClassifier(min_samples_split = best_grid[\"min_samples_split\"], \n",
        "                                         n_estimators = best_grid[\"n_estimators\"], random_state=42)\n",
        "rf_optimal.fit(X_train_c, y_train_c)\n",
        "\n",
        "y_pred_test_rf_opt = rf_optimal.predict(X_test_c)\n",
        "test_acc_rf_opt = sum(np.where(y_pred_test_rf_opt == y_test_c, 1, 0))/y_test_c.shape[0]\n",
        "print(f'test_acc_rf_opt is {test_acc_rf_opt:.4f}')\n",
        "acc_score_opt=rf_optimal.score(X_test_c, y_test_c)\n",
        "print(f'Optimal_model.acc_score on test data is {acc_score_opt:.4f}')\n",
        "\n",
        "f1_score_opt=f1_score(y_pred_test_rf_opt, y_test_c)\n",
        "print(f\"F1 Score :{f1_score_opt:.4f} \")\n",
        "print(\"Train accuray : {} \".format(accuracy_score(rf_optimal.predict(X_train_c),y_train_c)))"
      ]
    },
    {
      "attachments": {},
      "cell_type": "markdown",
      "metadata": {
        "id": "E99HR_mZA_cM"
      },
      "source": [
        " **2.6: Can you find the top 3 most important features from the model trained in Q2.5? How do these features compare to the important features that you found from Q1.10? If they differ, which feature set makes more sense?**\n",
        " - Yes. they are the same. "
      ]
    },
    {
      "cell_type": "code",
      "execution_count": 709,
      "metadata": {},
      "outputs": [
        {
          "name": "stdout",
          "output_type": "stream",
          "text": [
            "[0.00911099 0.00901477 0.01008755 0.00881087 0.00947627 0.00946339\n",
            " 0.00962749 0.01044074 0.007304   0.009241   0.00895997 0.00766772\n",
            " 0.00843684 0.04557117 0.04004695 0.13451623 0.05577068 0.30269266\n",
            " 0.3037607 ]\n"
          ]
        },
        {
          "name": "stderr",
          "output_type": "stream",
          "text": [
            "/Users/liangzhao/opt/anaconda3/lib/python3.9/site-packages/seaborn/_decorators.py:36: FutureWarning: Pass the following variables as keyword args: x, y. From version 0.12, the only valid positional argument will be `data`, and passing other arguments without an explicit keyword will result in an error or misinterpretation.\n",
            "  warnings.warn(\n"
          ]
        },
        {
          "data": {
            "text/plain": [
              "['feature 0',\n",
              " 'feature 1',\n",
              " 'feature 2',\n",
              " 'feature 3',\n",
              " 'feature 4',\n",
              " 'feature 5',\n",
              " 'feature 6',\n",
              " 'feature 7',\n",
              " 'feature 8',\n",
              " 'feature 9',\n",
              " 'feature 10',\n",
              " 'feature 11',\n",
              " 'feature 12',\n",
              " 'feature 13',\n",
              " 'feature 14',\n",
              " 'feature 15',\n",
              " 'feature 16',\n",
              " 'feature 17',\n",
              " 'feature 18']"
            ]
          },
          "execution_count": 709,
          "metadata": {},
          "output_type": "execute_result"
        },
        {
          "data": {
            "image/png": "[encoded data removed]",
            "text/plain": [
              "<Figure size 432x288 with 1 Axes>"
            ]
          },
          "metadata": {
            "needs_background": "light"
          },
          "output_type": "display_data"
        }
      ],
      "source": [
        "feature_names = [f\"feature {i}\" for i in range(X_train_c.shape[1])]\n",
        "feat_imps = zip(feature_names, rf_optimal.feature_importances_)\n",
        "print(rf_optimal.feature_importances_)\n",
        "feats, imps = zip(*(sorted(list(filter(lambda x:x[1] !=0, feat_imps)), key=lambda x: x[1], reverse=True)))\n",
        "feats, imps\n",
        "ax = sns.barplot(list(feats),list(imps))\n",
        "ax.tick_params(axis=\"x\", rotation=90)\n",
        "\n",
        "feature_names"
      ]
    },
    {
      "cell_type": "code",
      "execution_count": 688,
      "metadata": {
        "id": "j-9fIM-ba0Oq"
      },
      "outputs": [
        {
          "data": {
            "text/html": [
              "<div>\n",
              "<style scoped>\n",
              "    .dataframe tbody tr th:only-of-type {\n",
              "        vertical-align: middle;\n",
              "    }\n",
              "\n",
              "    .dataframe tbody tr th {\n",
              "        vertical-align: top;\n",
              "    }\n",
              "\n",
              "    .dataframe thead th {\n",
              "        text-align: right;\n",
              "    }\n",
              "</style>\n",
              "<table border=\"1\" class=\"dataframe\">\n",
              "  <thead>\n",
              "    <tr style=\"text-align: right;\">\n",
              "      <th></th>\n",
              "      <th>importances_opt</th>\n",
              "      <th>feature_names</th>\n",
              "    </tr>\n",
              "  </thead>\n",
              "  <tbody>\n",
              "    <tr>\n",
              "      <th>18</th>\n",
              "      <td>0.303761</td>\n",
              "      <td>Cost_of_the_Product</td>\n",
              "    </tr>\n",
              "    <tr>\n",
              "      <th>17</th>\n",
              "      <td>0.302693</td>\n",
              "      <td>Customer_care_calls</td>\n",
              "    </tr>\n",
              "    <tr>\n",
              "      <th>15</th>\n",
              "      <td>0.134516</td>\n",
              "      <td>Discount_offered</td>\n",
              "    </tr>\n",
              "    <tr>\n",
              "      <th>16</th>\n",
              "      <td>0.055771</td>\n",
              "      <td>Customer_rating</td>\n",
              "    </tr>\n",
              "    <tr>\n",
              "      <th>13</th>\n",
              "      <td>0.045571</td>\n",
              "      <td>Weight_in_gms</td>\n",
              "    </tr>\n",
              "    <tr>\n",
              "      <th>14</th>\n",
              "      <td>0.040047</td>\n",
              "      <td>Prior_purchases</td>\n",
              "    </tr>\n",
              "    <tr>\n",
              "      <th>7</th>\n",
              "      <td>0.010441</td>\n",
              "      <td>Warehouse_block_F</td>\n",
              "    </tr>\n",
              "    <tr>\n",
              "      <th>2</th>\n",
              "      <td>0.010088</td>\n",
              "      <td>Mode_of_Shipment_Ship</td>\n",
              "    </tr>\n",
              "    <tr>\n",
              "      <th>6</th>\n",
              "      <td>0.009627</td>\n",
              "      <td>Warehouse_block_D</td>\n",
              "    </tr>\n",
              "    <tr>\n",
              "      <th>4</th>\n",
              "      <td>0.009476</td>\n",
              "      <td>Warehouse_block_B</td>\n",
              "    </tr>\n",
              "    <tr>\n",
              "      <th>5</th>\n",
              "      <td>0.009463</td>\n",
              "      <td>Warehouse_block_C</td>\n",
              "    </tr>\n",
              "    <tr>\n",
              "      <th>9</th>\n",
              "      <td>0.009241</td>\n",
              "      <td>Product_importance_low</td>\n",
              "    </tr>\n",
              "    <tr>\n",
              "      <th>0</th>\n",
              "      <td>0.009111</td>\n",
              "      <td>Mode_of_Shipment_Flight</td>\n",
              "    </tr>\n",
              "    <tr>\n",
              "      <th>1</th>\n",
              "      <td>0.009015</td>\n",
              "      <td>Mode_of_Shipment_Road</td>\n",
              "    </tr>\n",
              "    <tr>\n",
              "      <th>10</th>\n",
              "      <td>0.008960</td>\n",
              "      <td>Product_importance_medium</td>\n",
              "    </tr>\n",
              "    <tr>\n",
              "      <th>3</th>\n",
              "      <td>0.008811</td>\n",
              "      <td>Warehouse_block_A</td>\n",
              "    </tr>\n",
              "    <tr>\n",
              "      <th>12</th>\n",
              "      <td>0.008437</td>\n",
              "      <td>Gender_M</td>\n",
              "    </tr>\n",
              "    <tr>\n",
              "      <th>11</th>\n",
              "      <td>0.007668</td>\n",
              "      <td>Gender_F</td>\n",
              "    </tr>\n",
              "    <tr>\n",
              "      <th>8</th>\n",
              "      <td>0.007304</td>\n",
              "      <td>Product_importance_high</td>\n",
              "    </tr>\n",
              "  </tbody>\n",
              "</table>\n",
              "</div>"
            ],
            "text/plain": [
              "    importances_opt              feature_names\n",
              "18         0.303761        Cost_of_the_Product\n",
              "17         0.302693        Customer_care_calls\n",
              "15         0.134516           Discount_offered\n",
              "16         0.055771            Customer_rating\n",
              "13         0.045571              Weight_in_gms\n",
              "14         0.040047            Prior_purchases\n",
              "7          0.010441          Warehouse_block_F\n",
              "2          0.010088      Mode_of_Shipment_Ship\n",
              "6          0.009627          Warehouse_block_D\n",
              "4          0.009476          Warehouse_block_B\n",
              "5          0.009463          Warehouse_block_C\n",
              "9          0.009241     Product_importance_low\n",
              "0          0.009111    Mode_of_Shipment_Flight\n",
              "1          0.009015      Mode_of_Shipment_Road\n",
              "10         0.008960  Product_importance_medium\n",
              "3          0.008811          Warehouse_block_A\n",
              "12         0.008437                   Gender_M\n",
              "11         0.007668                   Gender_F\n",
              "8          0.007304    Product_importance_high"
            ]
          },
          "execution_count": 688,
          "metadata": {},
          "output_type": "execute_result"
        }
      ],
      "source": [
        "## YOUR CODE HERE\n",
        "#Computing importance features\n",
        "importances_opt = rf_optimal.feature_importances_\n",
        "data_opt={'importances_opt':importances_opt,\n",
        "      'feature_names': feature_names}\n",
        "df_opt = pd.DataFrame(data_opt).sort_values('importances_opt', ascending=False)\n",
        "df_opt"
      ]
    },
    {
      "cell_type": "code",
      "execution_count": 634,
      "metadata": {},
      "outputs": [
        {
          "data": {
            "image/png": "[encoded data removed]",
            "text/plain": [
              "<Figure size 864x432 with 1 Axes>"
            ]
          },
          "metadata": {
            "needs_background": "light"
          },
          "output_type": "display_data"
        }
      ],
      "source": [
        "\n",
        "plt.figure(figsize = (12, 6))\n",
        "ax = sns.barplot(x = df_opt.feature_names, y = df_opt.importances_opt)\n",
        "ax.tick_params(axis = 'x', rotation = 90)"
      ]
    },
    {
      "cell_type": "markdown",
      "metadata": {
        "id": "IwgYEfrfLh1H"
      },
      "source": [
        "## Question 3: Gradient Boosted Trees"
      ]
    },
    {
      "attachments": {},
      "cell_type": "markdown",
      "metadata": {
        "id": "G22EKzRjLh1I"
      },
      "source": [
        "**3.1: Choose three hyperparameters to tune HistGradientBoostingClassifier on the development dataset using 5-fold cross validation. For each hyperparmeter, give it 3 potential values. Report on the time taken to do model selection for the model. Also, report the performance of the test dataset from the optimal models.**"
      ]
    },
    {
      "cell_type": "code",
      "execution_count": 635,
      "metadata": {},
      "outputs": [
        {
          "name": "stderr",
          "output_type": "stream",
          "text": [
            "/Users/liangzhao/opt/anaconda3/lib/python3.9/site-packages/sklearn/experimental/enable_hist_gradient_boosting.py:16: UserWarning: Since version 1.0, it is not needed to import enable_hist_gradient_boosting anymore. HistGradientBoostingClassifier and HistGradientBoostingRegressor are now stable and can be normally imported from sklearn.ensemble.\n",
            "  warnings.warn(\n"
          ]
        }
      ],
      "source": [
        "from sklearn.experimental import enable_hist_gradient_boosting\n",
        "from sklearn.ensemble import HistGradientBoostingClassifier\n",
        "from sklearn.model_selection import GridSearchCV\n",
        "from sklearn.metrics import accuracy_score\n",
        "import time"
      ]
    },
    {
      "cell_type": "code",
      "execution_count": 757,
      "metadata": {
        "id": "Myo5M6am1Ljt"
      },
      "outputs": [
        {
          "name": "stdout",
          "output_type": "stream",
          "text": [
            "time cost:132.58201313s\n",
            "best hyperparameters: {'l2_regularization': 0.001, 'learning_rate': 0.1, 'max_depth': 6}\n",
            "mean cross-validated score with best hyperparameters: 0.60072968887281\n"
          ]
        }
      ],
      "source": [
        "## YOUR CODE HERE\n",
        "from sklearn.model_selection import StratifiedKFold\n",
        "t = time.time()\n",
        "param_grid =  {'learning_rate':[0.1, 0.01, 0.001], \n",
        "               'max_depth':[3, 6, 9],\n",
        "               'l2_regularization': np.logspace(-3, -1, 3)}\n",
        "\n",
        "# Initialize HistGradientBoostingClassifier\n",
        "# Perform grid search with 5-fold cross-validation\n",
        "clf_hgb = make_pipeline(preprocess, \n",
        "                        GridSearchCV(estimator = HistGradientBoostingClassifier(random_state=10), \n",
        "                                     param_grid = param_grid,\n",
        "                                     cv=StratifiedKFold(n_splits=5, shuffle=False) \n",
        "                                     # It splits the dataset into k folds, \n",
        "                                     #ensuring that each fold has the same proportion of target classes as the complete dataset.\n",
        "                                     )\n",
        "                        )\n",
        "\n",
        "\n",
        "clf_hgb.fit(X_dev_before_transform, y_train_c)\n",
        "\n",
        "print(f'time cost:{time.time()-t:.8f}s')\n",
        "print(\"best hyperparameters:\", clf_hgb[\"gridsearchcv\"].best_params_)\n",
        "print(\"mean cross-validated score with best hyperparameters:\", clf_hgb[\"gridsearchcv\"].best_score_)\n",
        "# # Report on optimal hyperparameters\n",
        "# print(\"Optimal hyperparameters:\", grid_search.best_params_)\n"
      ]
    },
    {
      "cell_type": "code",
      "execution_count": 727,
      "metadata": {},
      "outputs": [
        {
          "name": "stdout",
          "output_type": "stream",
          "text": [
            "Based on the above  best parameters, we can fit the histGradientBoostingCalssifier\n",
            "Accuracy for GradientBoostingClassifier on testing data with best hyperparameters: 0.6759090909090909\n",
            "              precision    recall  f1-score   support\n",
            "\n",
            "           0       0.57      0.81      0.67       887\n",
            "           1       0.82      0.58      0.68      1313\n",
            "\n",
            "    accuracy                           0.68      2200\n",
            "   macro avg       0.70      0.70      0.68      2200\n",
            "weighted avg       0.72      0.68      0.68      2200\n",
            "\n"
          ]
        }
      ],
      "source": [
        "\n",
        "print(\"Based on the above  best parameters, we can fit the histGradientBoostingCalssifier\")\n",
        "clf_hgb_best=HistGradientBoostingClassifier(learning_rate=clf_hgb[\"gridsearchcv\"].best_params_['learning_rate'],\n",
        "                                            max_depth=clf_hgb[\"gridsearchcv\"].best_params_['max_depth'], \n",
        "                                         l2_regularization = clf_hgb[\"gridsearchcv\"].best_params_['l2_regularization'],\n",
        "                                         random_state=10)\n",
        "clf_hgb_best.fit(X_train_c, y_train_c)\n",
        "y_pred=clf_hgb_best.predict(X_test_c)\n",
        "score_hgb=accuracy_score(y_test_c, y_pred)\n",
        "print(\"Accuracy for GradientBoostingClassifier on testing data with best hyperparameters:\", score_hgb)\n",
        "print(classification_report(y_test_c, y_pred))"
      ]
    },
    {
      "cell_type": "markdown",
      "metadata": {
        "id": "n1_47XwsLh1I"
      },
      "source": [
        "**3.2: Repeat 3.1 for XGBoost.**\n",
        "\n",
        "**Note**: For XGBoost, you **DO NOT NEED** to choose the same hyperparameters as HistGradientBoostingClassifier."
      ]
    },
    {
      "cell_type": "code",
      "execution_count": 728,
      "metadata": {
        "id": "G-vzE9uh1MiC"
      },
      "outputs": [
        {
          "name": "stdout",
          "output_type": "stream",
          "text": [
            "clf_XG time cost:131.56646609s\n",
            "clf_XG best hyperparameters: {'learning_rate': 0.005, 'max_depth': 6, 'n_estimators': 20}\n",
            "mean cross-validated score with best hyperparameters clf_XG: 0.6062953511809396\n"
          ]
        }
      ],
      "source": [
        "## YOUR CODE HERE\n",
        "#!pip install xgboost\n",
        "from xgboost import XGBClassifier\n",
        "t=time.time()\n",
        "param_XG = {'learning_rate':[0.05, 0.01, 0.005], \n",
        "               'n_estimators':[20, 30, 40], \n",
        "               'max_depth':[3, 6, 9]}\n",
        "\n",
        "# Initialize HistGradientBoostingClassifier\n",
        "clf = XGBClassifier(random_state=10)\n",
        "\n",
        "\n",
        "clf_XG = make_pipeline(preprocess, \n",
        "                        GridSearchCV(estimator = clf , \n",
        "                                     param_grid = param_XG,\n",
        "                                     cv=StratifiedKFold(n_splits=5, shuffle=False) \n",
        "                                     # It splits the dataset into k folds, \n",
        "                                     #ensuring that each fold has the same proportion of target classes as the complete dataset.\n",
        "                                     )\n",
        "                        )\n",
        "\n",
        "\n",
        "clf_XG.fit(X_dev_before_transform, y_train_c)\n",
        "\n",
        "print(f'clf_XG time cost:{time.time()-t:.8f}s')\n",
        "print(\"clf_XG best hyperparameters:\", clf_XG[\"gridsearchcv\"].best_params_)\n",
        "print(\"mean cross-validated score with best hyperparameters clf_XG:\", clf_XG[\"gridsearchcv\"].best_score_)\n"
      ]
    },
    {
      "cell_type": "code",
      "execution_count": 734,
      "metadata": {},
      "outputs": [
        {
          "name": "stdout",
          "output_type": "stream",
          "text": [
            "Based on the above  best parameters, we can fit the  XGBoostingCalssifier\n",
            "Accuracy for XGBClassifier on testing data with best hyperparameters: 0.6877\n",
            "              precision    recall  f1-score   support\n",
            "\n",
            "           0       0.57      0.97      0.71       887\n",
            "           1       0.96      0.50      0.66      1313\n",
            "\n",
            "    accuracy                           0.69      2200\n",
            "   macro avg       0.76      0.73      0.69      2200\n",
            "weighted avg       0.80      0.69      0.68      2200\n",
            "\n"
          ]
        }
      ],
      "source": [
        "print(\"Based on the above  best parameters, we can fit the  XGBoostingCalssifier\")\n",
        "clf_XG_best=XGBClassifier(learning_rate=clf_XG[\"gridsearchcv\"].best_params_['learning_rate'],\n",
        "                                            max_depth=clf_XG[\"gridsearchcv\"].best_params_['max_depth'], \n",
        "                                         n_estimators = clf_XG[\"gridsearchcv\"].best_params_['n_estimators'],\n",
        "                                         random_state=10)\n",
        "clf_XG_best.fit(X_train_c, y_train_c)\n",
        "y_pred=clf_XG_best.predict(X_test_c)\n",
        "score_XG=accuracy_score(y_test_c, y_pred)\n",
        "print(f\"Accuracy for XGBClassifier on testing data with best hyperparameters: {score_XG:.4f}\")\n",
        "print(classification_report(y_test_c, y_pred))"
      ]
    },
    {
      "cell_type": "markdown",
      "metadata": {
        "id": "LDcp7suzLh1I"
      },
      "source": [
        "**3.3: Compare the results on the test dataset of XGBoost and HistGradientBoostingClassifier. Which model do you prefer and why?**"
      ]
    },
    {
      "cell_type": "code",
      "execution_count": 735,
      "metadata": {
        "id": "ZU3T-Mbc1NF4"
      },
      "outputs": [
        {
          "name": "stdout",
          "output_type": "stream",
          "text": [
            "Accuracy for GradientBoostingClassifier on testing data with best hyperparameters: 0.6759\n",
            "Accuracy for XGBClassifier on testing data with best hyperparameters: 0.6877\n"
          ]
        }
      ],
      "source": [
        "## YOUR CODE HERE\n",
        "print(f\"Accuracy for GradientBoostingClassifier on testing data with best hyperparameters: {score_hgb:.4f}\")\n",
        "print(f\"Accuracy for XGBClassifier on testing data with best hyperparameters: {score_XG:.4f}\")"
      ]
    },
    {
      "cell_type": "markdown",
      "metadata": {
        "id": "MiLxyTs3Lh1I"
      },
      "source": [
        "**3.4: Can you list the top 3 important features from the trained XGBoost model? How do they differ from the features found from Random Forest and Decision Tree?**"
      ]
    },
    {
      "cell_type": "code",
      "execution_count": 743,
      "metadata": {
        "id": "uRg9zHXF1Nvj"
      },
      "outputs": [
        {
          "data": {
            "text/plain": [
              "17    Customer_care_calls\n",
              "16        Customer_rating\n",
              "18    Cost_of_the_Product\n",
              "13          Weight_in_gms\n",
              "Name: feature_names, dtype: object"
            ]
          },
          "execution_count": 743,
          "metadata": {},
          "output_type": "execute_result"
        },
        {
          "data": {
            "image/png": "[encoded data removed]",
            "text/plain": [
              "<Figure size 864x432 with 1 Axes>"
            ]
          },
          "metadata": {
            "needs_background": "light"
          },
          "output_type": "display_data"
        }
      ],
      "source": [
        "## YOUR CODE HERE\n",
        "#Computing importance features\n",
        "\n",
        "#get the names for features\n",
        "num_features = ['Weight_in_gms', 'Prior_purchases',\n",
        "                'Discount_offered', 'Customer_rating',\n",
        "                'Customer_care_calls', 'Cost_of_the_Product']\n",
        "ohe_feature_names = preprocess.named_transformers_[\"onehotencoder\"].get_feature_names_out()\n",
        "feature_names = ohe_feature_names.tolist() + num_features\n",
        "feature_names\n",
        "\n",
        "\n",
        "importances_xg = clf_XG_best.feature_importances_\n",
        "data_opt={'importances_xg':importances_xg,\n",
        "      'feature_names': feature_names}\n",
        "df_xg = pd.DataFrame(data_opt).sort_values('importances_xg', ascending=False)\n",
        "df_xg.feature_names[:4]\n",
        "plt.figure(figsize = (12, 6))\n",
        "ax = sns.barplot(x = df_xg.feature_names, y = df_xg.importances_xg)\n",
        "ax.tick_params(axis = 'x', rotation = 90)\n",
        "df_xg.feature_names[:4]\n"
      ]
    },
    {
      "cell_type": "markdown",
      "metadata": {
        "id": "XslKOV0zLh1I"
      },
      "source": [
        "**3.5: Can you choose the top 5 features (as given by feature importances from XGBoost) and repeat Q3.2? Does this model perform better than the one trained in Q3.2? Why or why not is the performance better?**"
      ]
    },
    {
      "cell_type": "code",
      "execution_count": 749,
      "metadata": {
        "id": "tCOXabbZ1OY5"
      },
      "outputs": [
        {
          "data": {
            "text/plain": [
              "array([[   4,    2,  177, 1233,   44],\n",
              "       [   2,    2,  183, 3374,   48],\n",
              "       [   3,    3,  176, 1177,   10],\n",
              "       ...,\n",
              "       [   4,    1,  232, 1247,    6],\n",
              "       [   5,    2,  223, 1210,    2],\n",
              "       [   2,    5,  155, 1639,    6]])"
            ]
          },
          "execution_count": 749,
          "metadata": {},
          "output_type": "execute_result"
        }
      ],
      "source": [
        "## YOUR CODE HERE\n",
        "feats_5=list(df_xg.feature_names[:5])\n",
        "feats_5\n",
        "\n",
        "X_dev_new = X_dev_new = pd.DataFrame(X_dev, columns = feats_5)\n",
        "X_dev_new = X_dev_new[feats_5]\n",
        "X_dev_new.head()\n",
        "X_dev_new = X_dev_new.to_numpy()\n",
        "X_dev_new"
      ]
    },
    {
      "cell_type": "code",
      "execution_count": 750,
      "metadata": {},
      "outputs": [
        {
          "name": "stdout",
          "output_type": "stream",
          "text": [
            "cost:32.22341514s\n"
          ]
        }
      ],
      "source": [
        "t = time.time()\n",
        "param = {'learning_rate':[0.05, 0.01, 0.005], \n",
        "               'n_estimators':[20, 30, 40], \n",
        "               'max_depth':[3, 6, 9]}\n",
        "clf_xgb_new = make_pipeline(GridSearchCV(estimator = XGBClassifier(random_state=10), \n",
        "                           param_grid = param,\n",
        "                           cv=StratifiedKFold(n_splits=5, shuffle=False)))\n",
        "clf_xgb_new.fit(X_dev_new,y_train_c)\n",
        "print(f'cost clf_xgb_new:{time.time()-t:.8f}s')"
      ]
    },
    {
      "cell_type": "code",
      "execution_count": 751,
      "metadata": {},
      "outputs": [
        {
          "name": "stdout",
          "output_type": "stream",
          "text": [
            "best hyperparameters: {'learning_rate': 0.005, 'max_depth': 6, 'n_estimators': 20}\n",
            "best scores: 0.6029999612383069\n"
          ]
        }
      ],
      "source": [
        "print(\"best hyperparameters:\", clf_xgb_new[\"gridsearchcv\"].best_params_)\n",
        "print(\"best scores:\", clf_xgb_new[\"gridsearchcv\"].best_score_)"
      ]
    },
    {
      "cell_type": "code",
      "execution_count": 755,
      "metadata": {},
      "outputs": [
        {
          "name": "stdout",
          "output_type": "stream",
          "text": [
            "Accuracy for XGBoost on testing data with best hyperparameters: 0.6877\n",
            "the performance of those 2 model are very similar since  the features other than the top five don't play a big role in this model\n"
          ]
        }
      ],
      "source": [
        "clf_xgb_new_best = XGBClassifier(learning_rate = clf_xgb_new[\"gridsearchcv\"].best_params_[\"learning_rate\"], \n",
        "                                         max_depth = clf_xgb_new[\"gridsearchcv\"].best_params_[\"max_depth\"], \n",
        "                                         n_estimators = clf_xgb_new[\"gridsearchcv\"].best_params_[\"n_estimators\"],\n",
        "                                         random_state=10)\n",
        "clf_xgb_new_best.fit(X_train_c, y_train_c)\n",
        "y_pred = clf_xgb_new_best.predict(X_test_c)\n",
        "score_xgb_new = accuracy_score(y_test_c, y_pred)\n",
        "print(f\"Accuracy for XGBoost on testing data with best hyperparameters: {score_xgb_new:.4f}\")\n",
        "print(\"the performance of those 2 model are very similar since  the features other than the top five don't play a big role in this model\")"
      ]
    },
    {
      "cell_type": "markdown",
      "metadata": {
        "id": "Z6X1i5-OH1dj"
      },
      "source": [
        "## Question 4: Calibration"
      ]
    },
    {
      "cell_type": "markdown",
      "metadata": {
        "id": "dzrqP5IEH4r8"
      },
      "source": [
        "**4.1: Estimate the brier score for the HistGradientBoosting model (trained with optimal hyperparameters from Q3.1) scored on the test dataset.**"
      ]
    },
    {
      "cell_type": "code",
      "execution_count": 756,
      "metadata": {
        "id": "99WKDH2M1PH2"
      },
      "outputs": [],
      "source": [
        "## YOUR CODE HERE\n",
        "X_train, X_calib, y_train, y_calib = train_test_split(X_dev_before_transform, y_train_c, test_size = 0.20, random_state = 0)"
      ]
    },
    {
      "cell_type": "code",
      "execution_count": 758,
      "metadata": {},
      "outputs": [
        {
          "data": {
            "text/html": [
              "<style>#sk-container-id-11 {color: black;background-color: white;}#sk-container-id-11 pre{padding: 0;}#sk-container-id-11 div.sk-toggleable {background-color: white;}#sk-container-id-11 label.sk-toggleable__label {cursor: pointer;display: block;width: 100%;margin-bottom: 0;padding: 0.3em;box-sizing: border-box;text-align: center;}#sk-container-id-11 label.sk-toggleable__label-arrow:before {content: \"▸\";float: left;margin-right: 0.25em;color: #696969;}#sk-container-id-11 label.sk-toggleable__label-arrow:hover:before {color: black;}#sk-container-id-11 div.sk-estimator:hover label.sk-toggleable__label-arrow:before {color: black;}#sk-container-id-11 div.sk-toggleable__content {max-height: 0;max-width: 0;overflow: hidden;text-align: left;background-color: #f0f8ff;}#sk-container-id-11 div.sk-toggleable__content pre {margin: 0.2em;color: black;border-radius: 0.25em;background-color: #f0f8ff;}#sk-container-id-11 input.sk-toggleable__control:checked~div.sk-toggleable__content {max-height: 200px;max-width: 100%;overflow: auto;}#sk-container-id-11 input.sk-toggleable__control:checked~label.sk-toggleable__label-arrow:before {content: \"▾\";}#sk-container-id-11 div.sk-estimator input.sk-toggleable__control:checked~label.sk-toggleable__label {background-color: #d4ebff;}#sk-container-id-11 div.sk-label input.sk-toggleable__control:checked~label.sk-toggleable__label {background-color: #d4ebff;}#sk-container-id-11 input.sk-hidden--visually {border: 0;clip: rect(1px 1px 1px 1px);clip: rect(1px, 1px, 1px, 1px);height: 1px;margin: -1px;overflow: hidden;padding: 0;position: absolute;width: 1px;}#sk-container-id-11 div.sk-estimator {font-family: monospace;background-color: #f0f8ff;border: 1px dotted black;border-radius: 0.25em;box-sizing: border-box;margin-bottom: 0.5em;}#sk-container-id-11 div.sk-estimator:hover {background-color: #d4ebff;}#sk-container-id-11 div.sk-parallel-item::after {content: \"\";width: 100%;border-bottom: 1px solid gray;flex-grow: 1;}#sk-container-id-11 div.sk-label:hover label.sk-toggleable__label {background-color: #d4ebff;}#sk-container-id-11 div.sk-serial::before {content: \"\";position: absolute;border-left: 1px solid gray;box-sizing: border-box;top: 0;bottom: 0;left: 50%;z-index: 0;}#sk-container-id-11 div.sk-serial {display: flex;flex-direction: column;align-items: center;background-color: white;padding-right: 0.2em;padding-left: 0.2em;position: relative;}#sk-container-id-11 div.sk-item {position: relative;z-index: 1;}#sk-container-id-11 div.sk-parallel {display: flex;align-items: stretch;justify-content: center;background-color: white;position: relative;}#sk-container-id-11 div.sk-item::before, #sk-container-id-11 div.sk-parallel-item::before {content: \"\";position: absolute;border-left: 1px solid gray;box-sizing: border-box;top: 0;bottom: 0;left: 50%;z-index: -1;}#sk-container-id-11 div.sk-parallel-item {display: flex;flex-direction: column;z-index: 1;position: relative;background-color: white;}#sk-container-id-11 div.sk-parallel-item:first-child::after {align-self: flex-end;width: 50%;}#sk-container-id-11 div.sk-parallel-item:last-child::after {align-self: flex-start;width: 50%;}#sk-container-id-11 div.sk-parallel-item:only-child::after {width: 0;}#sk-container-id-11 div.sk-dashed-wrapped {border: 1px dashed gray;margin: 0 0.4em 0.5em 0.4em;box-sizing: border-box;padding-bottom: 0.4em;background-color: white;}#sk-container-id-11 div.sk-label label {font-family: monospace;font-weight: bold;display: inline-block;line-height: 1.2em;}#sk-container-id-11 div.sk-label-container {text-align: center;}#sk-container-id-11 div.sk-container {/* jupyter's `normalize.less` sets `[hidden] { display: none; }` but bootstrap.min.css set `[hidden] { display: none !important; }` so we also need the `!important` here to be able to override the default hidden behavior on the sphinx rendered scikit-learn.org. See: https://github.com/scikit-learn/scikit-learn/issues/21755 */display: inline-block !important;position: relative;}#sk-container-id-11 div.sk-text-repr-fallback {display: none;}</style><div id=\"sk-container-id-11\" class=\"sk-top-container\"><div class=\"sk-text-repr-fallback\"><pre>Pipeline(steps=[(&#x27;columntransformer&#x27;,\n",
              "                 ColumnTransformer(remainder=&#x27;passthrough&#x27;,\n",
              "                                   transformers=[(&#x27;onehotencoder&#x27;,\n",
              "                                                  OneHotEncoder(),\n",
              "                                                  [&#x27;Mode_of_Shipment&#x27;,\n",
              "                                                   &#x27;Warehouse_block&#x27;,\n",
              "                                                   &#x27;Product_importance&#x27;,\n",
              "                                                   &#x27;Gender&#x27;])])),\n",
              "                (&#x27;histgradientboostingclassifier&#x27;,\n",
              "                 HistGradientBoostingClassifier(l2_regularization=0.001,\n",
              "                                                max_depth=6,\n",
              "                                                random_state=10))])</pre><b>In a Jupyter environment, please rerun this cell to show the HTML representation or trust the notebook. <br />On GitHub, the HTML representation is unable to render, please try loading this page with nbviewer.org.</b></div><div class=\"sk-container\" hidden><div class=\"sk-item sk-dashed-wrapped\"><div class=\"sk-label-container\"><div class=\"sk-label sk-toggleable\"><input class=\"sk-toggleable__control sk-hidden--visually\" id=\"sk-estimator-id-17\" type=\"checkbox\" ><label for=\"sk-estimator-id-17\" class=\"sk-toggleable__label sk-toggleable__label-arrow\">Pipeline</label><div class=\"sk-toggleable__content\"><pre>Pipeline(steps=[(&#x27;columntransformer&#x27;,\n",
              "                 ColumnTransformer(remainder=&#x27;passthrough&#x27;,\n",
              "                                   transformers=[(&#x27;onehotencoder&#x27;,\n",
              "                                                  OneHotEncoder(),\n",
              "                                                  [&#x27;Mode_of_Shipment&#x27;,\n",
              "                                                   &#x27;Warehouse_block&#x27;,\n",
              "                                                   &#x27;Product_importance&#x27;,\n",
              "                                                   &#x27;Gender&#x27;])])),\n",
              "                (&#x27;histgradientboostingclassifier&#x27;,\n",
              "                 HistGradientBoostingClassifier(l2_regularization=0.001,\n",
              "                                                max_depth=6,\n",
              "                                                random_state=10))])</pre></div></div></div><div class=\"sk-serial\"><div class=\"sk-item sk-dashed-wrapped\"><div class=\"sk-label-container\"><div class=\"sk-label sk-toggleable\"><input class=\"sk-toggleable__control sk-hidden--visually\" id=\"sk-estimator-id-18\" type=\"checkbox\" ><label for=\"sk-estimator-id-18\" class=\"sk-toggleable__label sk-toggleable__label-arrow\">columntransformer: ColumnTransformer</label><div class=\"sk-toggleable__content\"><pre>ColumnTransformer(remainder=&#x27;passthrough&#x27;,\n",
              "                  transformers=[(&#x27;onehotencoder&#x27;, OneHotEncoder(),\n",
              "                                 [&#x27;Mode_of_Shipment&#x27;, &#x27;Warehouse_block&#x27;,\n",
              "                                  &#x27;Product_importance&#x27;, &#x27;Gender&#x27;])])</pre></div></div></div><div class=\"sk-parallel\"><div class=\"sk-parallel-item\"><div class=\"sk-item\"><div class=\"sk-label-container\"><div class=\"sk-label sk-toggleable\"><input class=\"sk-toggleable__control sk-hidden--visually\" id=\"sk-estimator-id-19\" type=\"checkbox\" ><label for=\"sk-estimator-id-19\" class=\"sk-toggleable__label sk-toggleable__label-arrow\">onehotencoder</label><div class=\"sk-toggleable__content\"><pre>[&#x27;Mode_of_Shipment&#x27;, &#x27;Warehouse_block&#x27;, &#x27;Product_importance&#x27;, &#x27;Gender&#x27;]</pre></div></div></div><div class=\"sk-serial\"><div class=\"sk-item\"><div class=\"sk-estimator sk-toggleable\"><input class=\"sk-toggleable__control sk-hidden--visually\" id=\"sk-estimator-id-20\" type=\"checkbox\" ><label for=\"sk-estimator-id-20\" class=\"sk-toggleable__label sk-toggleable__label-arrow\">OneHotEncoder</label><div class=\"sk-toggleable__content\"><pre>OneHotEncoder()</pre></div></div></div></div></div></div><div class=\"sk-parallel-item\"><div class=\"sk-item\"><div class=\"sk-label-container\"><div class=\"sk-label sk-toggleable\"><input class=\"sk-toggleable__control sk-hidden--visually\" id=\"sk-estimator-id-21\" type=\"checkbox\" ><label for=\"sk-estimator-id-21\" class=\"sk-toggleable__label sk-toggleable__label-arrow\">remainder</label><div class=\"sk-toggleable__content\"><pre>[&#x27;Customer_care_calls&#x27;, &#x27;Customer_rating&#x27;, &#x27;Cost_of_the_Product&#x27;, &#x27;Prior_purchases&#x27;, &#x27;Discount_offered&#x27;, &#x27;Weight_in_gms&#x27;]</pre></div></div></div><div class=\"sk-serial\"><div class=\"sk-item\"><div class=\"sk-estimator sk-toggleable\"><input class=\"sk-toggleable__control sk-hidden--visually\" id=\"sk-estimator-id-22\" type=\"checkbox\" ><label for=\"sk-estimator-id-22\" class=\"sk-toggleable__label sk-toggleable__label-arrow\">passthrough</label><div class=\"sk-toggleable__content\"><pre>passthrough</pre></div></div></div></div></div></div></div></div><div class=\"sk-item\"><div class=\"sk-estimator sk-toggleable\"><input class=\"sk-toggleable__control sk-hidden--visually\" id=\"sk-estimator-id-23\" type=\"checkbox\" ><label for=\"sk-estimator-id-23\" class=\"sk-toggleable__label sk-toggleable__label-arrow\">HistGradientBoostingClassifier</label><div class=\"sk-toggleable__content\"><pre>HistGradientBoostingClassifier(l2_regularization=0.001, max_depth=6,\n",
              "                               random_state=10)</pre></div></div></div></div></div></div></div>"
            ],
            "text/plain": [
              "Pipeline(steps=[('columntransformer',\n",
              "                 ColumnTransformer(remainder='passthrough',\n",
              "                                   transformers=[('onehotencoder',\n",
              "                                                  OneHotEncoder(),\n",
              "                                                  ['Mode_of_Shipment',\n",
              "                                                   'Warehouse_block',\n",
              "                                                   'Product_importance',\n",
              "                                                   'Gender'])])),\n",
              "                ('histgradientboostingclassifier',\n",
              "                 HistGradientBoostingClassifier(l2_regularization=0.001,\n",
              "                                                max_depth=6,\n",
              "                                                random_state=10))])"
            ]
          },
          "execution_count": 758,
          "metadata": {},
          "output_type": "execute_result"
        }
      ],
      "source": [
        "clf_hgb_baseline = make_pipeline(preprocess,\n",
        "                                 HistGradientBoostingClassifier(learning_rate = clf_hgb[\"gridsearchcv\"].best_params_[\"learning_rate\"], \n",
        "                                         max_depth = clf_hgb[\"gridsearchcv\"].best_params_[\"max_depth\"], \n",
        "                                         l2_regularization = clf_hgb[\"gridsearchcv\"].best_params_['l2_regularization'],\n",
        "                                         random_state=10))\n",
        "clf_hgb_baseline.fit(X_train, y_train)"
      ]
    },
    {
      "cell_type": "code",
      "execution_count": 760,
      "metadata": {},
      "outputs": [
        {
          "name": "stdout",
          "output_type": "stream",
          "text": [
            "brier score for the XGBoost Model: 0.18292065336936802\n"
          ]
        }
      ],
      "source": [
        "probs = clf_hgb_baseline.predict_proba(X_test_before_transform)[:, 1]\n",
        "loss_hgb = brier_score_loss(y_test_c, probs)\n",
        "print(\"brier score for the XGBoost Model:\", loss_hgb)"
      ]
    },
    {
      "cell_type": "markdown",
      "metadata": {
        "id": "FrwJNloIBlW3"
      },
      "source": [
        "**4.2: Calibrate the trained HistGradientBoosting model using Platt Scaling. Print the brier score after calibration and plot predicted v.s. actual on test datasets from the calibration method.**"
      ]
    },
    {
      "cell_type": "code",
      "execution_count": 765,
      "metadata": {
        "id": "Lar6XNTk1Pw9"
      },
      "outputs": [
        {
          "name": "stdout",
          "output_type": "stream",
          "text": [
            "brier score for the XGBoost Model with platt scaling: 0.17965134920246054\n"
          ]
        },
        {
          "data": {
            "image/png": "[encoded data removed]",
            "text/plain": [
              "<Figure size 432x288 with 1 Axes>"
            ]
          },
          "metadata": {
            "needs_background": "light"
          },
          "output_type": "display_data"
        }
      ],
      "source": [
        "## YOUR CODE HERE\n",
        "from sklearn.calibration import CalibrationDisplay, CalibratedClassifierCV\n",
        "clf_hgb_platt = CalibratedClassifierCV(clf_hgb_baseline, cv=\"prefit\", method=\"sigmoid\")\n",
        "clf_hgb_platt.fit(X_calib, y_calib)\n",
        "display = CalibrationDisplay.from_estimator(\n",
        "    clf_hgb_platt, X_test_before_transform, y_test_c, n_bins=10, name = \"Calibrated HistGradientBoost with Platt Scaling\"\n",
        ")\n",
        "\n",
        "probs = clf_hgb_platt.predict_proba(X_test_before_transform)[:,1]\n",
        "loss_hgb_platt = brier_score_loss(y_test_c, probs)\n",
        "print(\"brier score for the XGBoost Model with platt scaling:\", loss_hgb_platt)"
      ]
    },
    {
      "cell_type": "markdown",
      "metadata": {
        "id": "IfBTkjtoIKfP"
      },
      "source": [
        "**4.3: Compare the brier scores from 4.1 and 4.2. Do the calibration methods help in having better predicted probabilities?**"
      ]
    },
    {
      "cell_type": "code",
      "execution_count": 767,
      "metadata": {
        "id": "4l-KRYw91QfC"
      },
      "outputs": [
        {
          "data": {
            "image/png": "[encoded data removed]",
            "text/plain": [
              "<Figure size 432x288 with 1 Axes>"
            ]
          },
          "metadata": {
            "needs_background": "light"
          },
          "output_type": "display_data"
        },
        {
          "name": "stdout",
          "output_type": "stream",
          "text": [
            "Calibration method help a little bit in having better predicted probabilities.\n"
          ]
        }
      ],
      "source": [
        "## YOUR CODE HERE\n",
        "plt.bar(x = [\"HGB\", \"HGB with platt\"], height = [loss_hgb, loss_hgb_platt])\n",
        "plt.ylim(0.1, 0.20)\n",
        "plt.title(\"Brier scores\")\n",
        "plt.show()\n",
        "\n",
        "print(\"Calibration method help a little bit in having better predicted probabilities.\")"
      ]
    }
  ],
  "metadata": {
    "colab": {
      "provenance": []
    },
    "kernelspec": {
      "display_name": "Python 3",
      "name": "python3"
    },
    "language_info": {
      "codemirror_mode": {
        "name": "ipython",
        "version": 3
      },
      "file_extension": ".py",
      "mimetype": "text/x-python",
      "name": "python",
      "nbconvert_exporter": "python",
      "pygments_lexer": "ipython3",
      "version": "3.9.7"
    }
  },
  "nbformat": 4,
  "nbformat_minor": 0
}
